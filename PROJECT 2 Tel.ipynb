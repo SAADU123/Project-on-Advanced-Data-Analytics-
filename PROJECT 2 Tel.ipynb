{
 "cells": [
  {
   "cell_type": "code",
   "execution_count": 1,
   "id": "56f64d6f",
   "metadata": {},
   "outputs": [],
   "source": [
    "import pandas as pd\n",
    "import numpy as np\n",
    "from bs4 import BeautifulSoup as s\n",
    "from urllib.request import urlopen as u"
   ]
  },
  {
   "cell_type": "code",
   "execution_count": 9,
   "id": "efc6f25d",
   "metadata": {},
   "outputs": [
    {
     "data": {
      "text/plain": [
       "<http.client.HTTPResponse at 0x1606c006610>"
      ]
     },
     "execution_count": 9,
     "metadata": {},
     "output_type": "execute_result"
    }
   ],
   "source": [
    "url=\"https://www.flipkart.com/search?q=smart+tv+&otracker=search&otracker1=search&marketplace=FLIPKART&as-show=off&as=off&p%5B%5D=facets.fulfilled_by%255B%255D%3DFlipkart%2BAssured&p%5B%5D=facets.smart_tv%255B%255D%3DYes&p%5B%5D=facets.price_range.from%3D20000&p%5B%5D=facets.price_range.to%3D50000&p%5B%5D=facets.screen_size%255B%255D%3D39%2B-%2B43%2Binch&p%5B%5D=facets.screen_size%255B%255D%3D28%2B-%2B32%2Binch&p%5B%5D=facets.availability%255B%255D%3DExclude%2BOut%2Bof%2BStock&p%5B%5D=facets.brand%255B%255D%3DSAMSUNG&p%5B%5D=facets.rating%255B%255D%3D4%25E2%2598%2585%2B%2526%2Babove\"\n",
    "html=u(url)\n",
    "html"
   ]
  },
  {
   "cell_type": "code",
   "execution_count": 10,
   "id": "c5422247",
   "metadata": {},
   "outputs": [],
   "source": [
    "pagecode=html.read()"
   ]
  },
  {
   "cell_type": "code",
   "execution_count": 11,
   "id": "515c94d2",
   "metadata": {},
   "outputs": [],
   "source": [
    "page_file=s(pagecode)"
   ]
  },
  {
   "cell_type": "code",
   "execution_count": 12,
   "id": "bbafa923",
   "metadata": {},
   "outputs": [
    {
     "name": "stdout",
     "output_type": "stream",
     "text": [
      "<title>Smart Tv- Buy Products Online at Best Price in India - All Categories | Flipkart.com</title>\n"
     ]
    }
   ],
   "source": [
    "pagetitle=page_file.title\n",
    "print(pagetitle)"
   ]
  },
  {
   "cell_type": "code",
   "execution_count": 13,
   "id": "480eef30",
   "metadata": {},
   "outputs": [
    {
     "data": {
      "text/plain": [
       "'SAMSUNG 108 cm (43 inch) Full HD LED Smart TV'"
      ]
     },
     "execution_count": 13,
     "metadata": {},
     "output_type": "execute_result"
    }
   ],
   "source": [
    "#ACCESSING THE PRODUCT NAME \n",
    "pname=page_file.find(\"div\",{\"class\":'_4rR01T'})\n",
    "pname.text"
   ]
  },
  {
   "cell_type": "code",
   "execution_count": 14,
   "id": "b27cf6d9",
   "metadata": {},
   "outputs": [
    {
     "data": {
      "text/plain": [
       "['SAMSUNG 108 cm (43 inch) Full HD LED Smart TV',\n",
       " 'SAMSUNG Crystal 4K 108 cm (43 inch) Ultra HD (4K) LED Smart TV',\n",
       " 'SAMSUNG Crystal 4K Pro 108 cm (43 inch) Ultra HD (4K) LED Smart TV with Voice Search',\n",
       " 'SAMSUNG 80 cm (32 inch) HD Ready LED Smart TV',\n",
       " 'SAMSUNG 108 cm (43 inch) Full HD LED Smart TV',\n",
       " 'SAMSUNG 4 80 cm (32 inch) HD Ready LED Smart TV 2021 Edition',\n",
       " 'SAMSUNG 4 80 cm (32 inch) HD Ready LED Smart TV',\n",
       " 'SAMSUNG 108 cm (43 inch) Ultra HD (4K) LED Smart TV',\n",
       " 'SAMSUNG 108 cm (43 inch) Full HD LED Smart TV',\n",
       " 'SAMSUNG 7 108 cm (43 inch) Ultra HD (4K) LED Smart TV',\n",
       " 'SAMSUNG 8 108 cm (43 inch) Ultra HD (4K) LED Smart TV',\n",
       " 'SAMSUNG 108 cm (43 inch) Ultra HD (4K) LED Smart TV',\n",
       " 'SAMSUNG N4200 80 cm (32 inch) HD Ready LED Smart TV',\n",
       " 'SAMSUNG 108 cm (43 inch) Full HD LED Smart TV',\n",
       " 'SAMSUNG 108 cm (43 inch) Ultra HD (4K) LED Smart TV']"
      ]
     },
     "execution_count": 14,
     "metadata": {},
     "output_type": "execute_result"
    }
   ],
   "source": [
    "#EXTRACTING WHOLE PAGE PRODUCT NAME\n",
    "BRAND1_NAME=[]\n",
    "b=page_file.findAll(\"div\",{\"class\":'_4rR01T'})\n",
    "for i in b:\n",
    "    y=i.text\n",
    "    BRAND1_NAME.append(y)\n",
    "BRAND1_NAME"
   ]
  },
  {
   "cell_type": "code",
   "execution_count": 15,
   "id": "a4e14659",
   "metadata": {},
   "outputs": [
    {
     "data": {
      "text/plain": [
       "15"
      ]
     },
     "execution_count": 15,
     "metadata": {},
     "output_type": "execute_result"
    }
   ],
   "source": [
    "len(BRAND1_NAME) # FINING LENGTH OF THE BRAND NAME"
   ]
  },
  {
   "cell_type": "code",
   "execution_count": 16,
   "id": "afeb3be9",
   "metadata": {},
   "outputs": [
    {
     "data": {
      "text/plain": [
       "11"
      ]
     },
     "execution_count": 16,
     "metadata": {},
     "output_type": "execute_result"
    }
   ],
   "source": [
    "del BRAND1_NAME[11:] # TAKING REQUIRED LENGTH\n",
    "len(BRAND1_NAME)"
   ]
  },
  {
   "cell_type": "code",
   "execution_count": 17,
   "id": "e030371e",
   "metadata": {},
   "outputs": [
    {
     "data": {
      "text/plain": [
       "'₹38,900'"
      ]
     },
     "execution_count": 17,
     "metadata": {},
     "output_type": "execute_result"
    }
   ],
   "source": [
    "price=page_file.find(\"div\",{\"class\":'_3I9_wc _27UcVY'})\n",
    "price.text"
   ]
  },
  {
   "cell_type": "code",
   "execution_count": 18,
   "id": "bb067f9c",
   "metadata": {},
   "outputs": [
    {
     "name": "stdout",
     "output_type": "stream",
     "text": [
      "[38900, 52900, 54900, 22900, 53000, 26490, 26490, 56900, 39900, 49900, 59900, 48900, 24900, 39990, 60900]\n"
     ]
    },
    {
     "data": {
      "text/plain": [
       "15"
      ]
     },
     "execution_count": 18,
     "metadata": {},
     "output_type": "execute_result"
    }
   ],
   "source": [
    "# TAKING OLD PRICE IN A LIST AND CLEANING THE DATA\n",
    "OLD_PRICE1=[]\n",
    "b=page_file.findAll(\"div\",{\"class\":'_3I9_wc _27UcVY'})\n",
    "for i in b:\n",
    "    y=i.text\n",
    "    OLD_PRICE1.append(int(y[1:].replace(',','')))\n",
    "print(OLD_PRICE1)\n",
    "type(OLD_PRICE1[1])\n",
    "len(OLD_PRICE1)"
   ]
  },
  {
   "cell_type": "code",
   "execution_count": 19,
   "id": "6e64b949",
   "metadata": {},
   "outputs": [
    {
     "data": {
      "text/plain": [
       "11"
      ]
     },
     "execution_count": 19,
     "metadata": {},
     "output_type": "execute_result"
    }
   ],
   "source": [
    "del OLD_PRICE1[11:]\n",
    "len(OLD_PRICE1)"
   ]
  },
  {
   "cell_type": "code",
   "execution_count": 20,
   "id": "3f88b0b5",
   "metadata": {},
   "outputs": [
    {
     "data": {
      "text/plain": [
       "'17% off'"
      ]
     },
     "execution_count": 20,
     "metadata": {},
     "output_type": "execute_result"
    }
   ],
   "source": [
    "DISCOUNT=page_file.find(\"div\",{\"class\":'_3Ay6Sb'})\n",
    "DISCOUNT.text"
   ]
  },
  {
   "cell_type": "code",
   "execution_count": 21,
   "id": "70493bf6",
   "metadata": {},
   "outputs": [
    {
     "name": "stdout",
     "output_type": "stream",
     "text": [
      "['17% off', '28% off', '27% off', '9% off', '21% off', '18% off', '16% off', '20% off', '9% off', '16% off', '17% off', '20% off', '9% off', '3% off', '19% off']\n"
     ]
    }
   ],
   "source": [
    "# EXTRACTING DISCOUNT \n",
    "DISCOUNT1=[]\n",
    "b=page_file.findAll(\"div\",{\"class\":'_3Ay6Sb'})\n",
    "for i in b:\n",
    "    y=i.text\n",
    "    DISCOUNT1.append(y)\n",
    "print(DISCOUNT1)"
   ]
  },
  {
   "cell_type": "code",
   "execution_count": 22,
   "id": "0267bd57",
   "metadata": {},
   "outputs": [
    {
     "data": {
      "text/plain": [
       "11"
      ]
     },
     "execution_count": 22,
     "metadata": {},
     "output_type": "execute_result"
    }
   ],
   "source": [
    "del DISCOUNT1[11:]\n",
    "len(DISCOUNT1)"
   ]
  },
  {
   "cell_type": "code",
   "execution_count": 23,
   "id": "87963a51",
   "metadata": {},
   "outputs": [
    {
     "data": {
      "text/plain": [
       "'₹31,990'"
      ]
     },
     "execution_count": 23,
     "metadata": {},
     "output_type": "execute_result"
    }
   ],
   "source": [
    "NEW_PRICE=page_file.find(\"div\",{\"class\":'_30jeq3 _1_WHN1'})\n",
    "NEW_PRICE.text"
   ]
  },
  {
   "cell_type": "code",
   "execution_count": 24,
   "id": "d8202f8f",
   "metadata": {},
   "outputs": [
    {
     "name": "stdout",
     "output_type": "stream",
     "text": [
      "[31990, 37990, 39990, 20790, 41800, 21690, 22140, 45400, 36249, 41529, 49590, 38999, 22499, 38790, 48990]\n"
     ]
    }
   ],
   "source": [
    "#EXTRACTING NEW PRICE AND CLEANING THE DATA\n",
    "NEW_PRICE1=[]\n",
    "b=page_file.findAll(\"div\",{\"class\":'_30jeq3 _1_WHN1'})\n",
    "for i in b:\n",
    "    y=i.text\n",
    "    NEW_PRICE1.append(int(y[1:].replace(',','')))\n",
    "print(NEW_PRICE1)"
   ]
  },
  {
   "cell_type": "code",
   "execution_count": 25,
   "id": "41a15a04",
   "metadata": {},
   "outputs": [
    {
     "data": {
      "text/plain": [
       "11"
      ]
     },
     "execution_count": 25,
     "metadata": {},
     "output_type": "execute_result"
    }
   ],
   "source": [
    "del NEW_PRICE1[11:]\n",
    "len(NEW_PRICE1)"
   ]
  },
  {
   "cell_type": "code",
   "execution_count": 26,
   "id": "b17350b7",
   "metadata": {},
   "outputs": [
    {
     "data": {
      "text/plain": [
       "[6910, 14910, 14910, 2110, 11200, 4800, 4350, 11500, 3651, 8371, 10310]"
      ]
     },
     "execution_count": 26,
     "metadata": {},
     "output_type": "execute_result"
    }
   ],
   "source": [
    "#TAKING DISCOUNT PRICE BY SUBTRACTING OLDPRICE AND NEWPRICE \n",
    "discount_price=[]\n",
    "for i in range(len(OLD_PRICE1)):\n",
    "    price=OLD_PRICE1[i]-NEW_PRICE1[i]\n",
    "    discount_price.append(price)\n",
    "discount_price"
   ]
  },
  {
   "cell_type": "code",
   "execution_count": 27,
   "id": "3bb30f64",
   "metadata": {},
   "outputs": [],
   "source": [
    "#CREATING DICTIONARY AND ADDING NECESSARY DETAILS\n",
    "d1={'BRAND_NAME1':BRAND1_NAME,'OLD_PRICE1':OLD_PRICE1,'DISCOUNT1':DISCOUNT1,'NEW_PRICE1':NEW_PRICE1,'DIS_PRICE':discount_price}"
   ]
  },
  {
   "cell_type": "code",
   "execution_count": 28,
   "id": "ea669701",
   "metadata": {},
   "outputs": [
    {
     "data": {
      "text/html": [
       "<div>\n",
       "<style scoped>\n",
       "    .dataframe tbody tr th:only-of-type {\n",
       "        vertical-align: middle;\n",
       "    }\n",
       "\n",
       "    .dataframe tbody tr th {\n",
       "        vertical-align: top;\n",
       "    }\n",
       "\n",
       "    .dataframe thead th {\n",
       "        text-align: right;\n",
       "    }\n",
       "</style>\n",
       "<table border=\"1\" class=\"dataframe\">\n",
       "  <thead>\n",
       "    <tr style=\"text-align: right;\">\n",
       "      <th></th>\n",
       "      <th>BRAND_NAME1</th>\n",
       "      <th>OLD_PRICE1</th>\n",
       "      <th>DISCOUNT1</th>\n",
       "      <th>NEW_PRICE1</th>\n",
       "      <th>DIS_PRICE</th>\n",
       "    </tr>\n",
       "  </thead>\n",
       "  <tbody>\n",
       "    <tr>\n",
       "      <th>0</th>\n",
       "      <td>SAMSUNG 108 cm (43 inch) Full HD LED Smart TV</td>\n",
       "      <td>38900</td>\n",
       "      <td>17% off</td>\n",
       "      <td>31990</td>\n",
       "      <td>6910</td>\n",
       "    </tr>\n",
       "    <tr>\n",
       "      <th>1</th>\n",
       "      <td>SAMSUNG Crystal 4K 108 cm (43 inch) Ultra HD (...</td>\n",
       "      <td>52900</td>\n",
       "      <td>28% off</td>\n",
       "      <td>37990</td>\n",
       "      <td>14910</td>\n",
       "    </tr>\n",
       "    <tr>\n",
       "      <th>2</th>\n",
       "      <td>SAMSUNG Crystal 4K Pro 108 cm (43 inch) Ultra ...</td>\n",
       "      <td>54900</td>\n",
       "      <td>27% off</td>\n",
       "      <td>39990</td>\n",
       "      <td>14910</td>\n",
       "    </tr>\n",
       "    <tr>\n",
       "      <th>3</th>\n",
       "      <td>SAMSUNG 80 cm (32 inch) HD Ready LED Smart TV</td>\n",
       "      <td>22900</td>\n",
       "      <td>9% off</td>\n",
       "      <td>20790</td>\n",
       "      <td>2110</td>\n",
       "    </tr>\n",
       "    <tr>\n",
       "      <th>4</th>\n",
       "      <td>SAMSUNG 108 cm (43 inch) Full HD LED Smart TV</td>\n",
       "      <td>53000</td>\n",
       "      <td>21% off</td>\n",
       "      <td>41800</td>\n",
       "      <td>11200</td>\n",
       "    </tr>\n",
       "    <tr>\n",
       "      <th>5</th>\n",
       "      <td>SAMSUNG 4 80 cm (32 inch) HD Ready LED Smart T...</td>\n",
       "      <td>26490</td>\n",
       "      <td>18% off</td>\n",
       "      <td>21690</td>\n",
       "      <td>4800</td>\n",
       "    </tr>\n",
       "    <tr>\n",
       "      <th>6</th>\n",
       "      <td>SAMSUNG 4 80 cm (32 inch) HD Ready LED Smart TV</td>\n",
       "      <td>26490</td>\n",
       "      <td>16% off</td>\n",
       "      <td>22140</td>\n",
       "      <td>4350</td>\n",
       "    </tr>\n",
       "    <tr>\n",
       "      <th>7</th>\n",
       "      <td>SAMSUNG 108 cm (43 inch) Ultra HD (4K) LED Sma...</td>\n",
       "      <td>56900</td>\n",
       "      <td>20% off</td>\n",
       "      <td>45400</td>\n",
       "      <td>11500</td>\n",
       "    </tr>\n",
       "    <tr>\n",
       "      <th>8</th>\n",
       "      <td>SAMSUNG 108 cm (43 inch) Full HD LED Smart TV</td>\n",
       "      <td>39900</td>\n",
       "      <td>9% off</td>\n",
       "      <td>36249</td>\n",
       "      <td>3651</td>\n",
       "    </tr>\n",
       "    <tr>\n",
       "      <th>9</th>\n",
       "      <td>SAMSUNG 7 108 cm (43 inch) Ultra HD (4K) LED S...</td>\n",
       "      <td>49900</td>\n",
       "      <td>16% off</td>\n",
       "      <td>41529</td>\n",
       "      <td>8371</td>\n",
       "    </tr>\n",
       "    <tr>\n",
       "      <th>10</th>\n",
       "      <td>SAMSUNG 8 108 cm (43 inch) Ultra HD (4K) LED S...</td>\n",
       "      <td>59900</td>\n",
       "      <td>17% off</td>\n",
       "      <td>49590</td>\n",
       "      <td>10310</td>\n",
       "    </tr>\n",
       "  </tbody>\n",
       "</table>\n",
       "</div>"
      ],
      "text/plain": [
       "                                          BRAND_NAME1  OLD_PRICE1 DISCOUNT1  \\\n",
       "0       SAMSUNG 108 cm (43 inch) Full HD LED Smart TV       38900   17% off   \n",
       "1   SAMSUNG Crystal 4K 108 cm (43 inch) Ultra HD (...       52900   28% off   \n",
       "2   SAMSUNG Crystal 4K Pro 108 cm (43 inch) Ultra ...       54900   27% off   \n",
       "3       SAMSUNG 80 cm (32 inch) HD Ready LED Smart TV       22900    9% off   \n",
       "4       SAMSUNG 108 cm (43 inch) Full HD LED Smart TV       53000   21% off   \n",
       "5   SAMSUNG 4 80 cm (32 inch) HD Ready LED Smart T...       26490   18% off   \n",
       "6     SAMSUNG 4 80 cm (32 inch) HD Ready LED Smart TV       26490   16% off   \n",
       "7   SAMSUNG 108 cm (43 inch) Ultra HD (4K) LED Sma...       56900   20% off   \n",
       "8       SAMSUNG 108 cm (43 inch) Full HD LED Smart TV       39900    9% off   \n",
       "9   SAMSUNG 7 108 cm (43 inch) Ultra HD (4K) LED S...       49900   16% off   \n",
       "10  SAMSUNG 8 108 cm (43 inch) Ultra HD (4K) LED S...       59900   17% off   \n",
       "\n",
       "    NEW_PRICE1  DIS_PRICE  \n",
       "0        31990       6910  \n",
       "1        37990      14910  \n",
       "2        39990      14910  \n",
       "3        20790       2110  \n",
       "4        41800      11200  \n",
       "5        21690       4800  \n",
       "6        22140       4350  \n",
       "7        45400      11500  \n",
       "8        36249       3651  \n",
       "9        41529       8371  \n",
       "10       49590      10310  "
      ]
     },
     "execution_count": 28,
     "metadata": {},
     "output_type": "execute_result"
    }
   ],
   "source": [
    "df1=pd.DataFrame(d1)\n",
    "df1"
   ]
  },
  {
   "cell_type": "code",
   "execution_count": 29,
   "id": "22c67a34",
   "metadata": {},
   "outputs": [
    {
     "data": {
      "text/plain": [
       "<http.client.HTTPResponse at 0x1606ec666d0>"
      ]
     },
     "execution_count": 29,
     "metadata": {},
     "output_type": "execute_result"
    }
   ],
   "source": [
    "link=\"https://www.reliancedigital.in/televisions/c/S101812?searchQuery=:relevance:availability:Exclude%20out%20of%20Stock:price:[18490%20TO%2050000]:brand:Samsung&page=0\"\n",
    "html=u(link)\n",
    "html"
   ]
  },
  {
   "cell_type": "code",
   "execution_count": 30,
   "id": "9eed2311",
   "metadata": {},
   "outputs": [],
   "source": [
    "pagecode=html.read()"
   ]
  },
  {
   "cell_type": "code",
   "execution_count": 31,
   "id": "5cb3b03d",
   "metadata": {},
   "outputs": [],
   "source": [
    "page_file=s(pagecode)"
   ]
  },
  {
   "cell_type": "code",
   "execution_count": 32,
   "id": "bd2a7f4f",
   "metadata": {},
   "outputs": [
    {
     "name": "stdout",
     "output_type": "stream",
     "text": [
      "<title data-react-helmet=\"true\">Televisions - Buy LED TV, Smart TV, Android TV Online - Reliance Digital </title>\n"
     ]
    }
   ],
   "source": [
    "page_title=page_file.title\n",
    "print(page_title)"
   ]
  },
  {
   "cell_type": "code",
   "execution_count": 33,
   "id": "78781651",
   "metadata": {},
   "outputs": [
    {
     "data": {
      "text/plain": [
       "'Samsung 80 cm (32 inch) HD Ready LED Smart TV, 4 Series 32T4450₹20,990.00₹25,900.0019%(₹4,910)offers available'"
      ]
     },
     "execution_count": 33,
     "metadata": {},
     "output_type": "execute_result"
    }
   ],
   "source": [
    "bname=page_file.find(\"div\",{\"class\":'slider-text'})\n",
    "bname.text"
   ]
  },
  {
   "cell_type": "code",
   "execution_count": 34,
   "id": "1991ebbf",
   "metadata": {},
   "outputs": [
    {
     "data": {
      "text/plain": [
       "'Samsung 80 cm (32 inch) HD Ready LED Smart TV, 4 Series 32T4450'"
      ]
     },
     "execution_count": 34,
     "metadata": {},
     "output_type": "execute_result"
    }
   ],
   "source": [
    "#ACCESSING THE PRODUCT NAME \n",
    "brandname=page_file.find(\"p\",{\"class\":'sp__name'})\n",
    "brandname.text"
   ]
  },
  {
   "cell_type": "code",
   "execution_count": 35,
   "id": "6c6229a1",
   "metadata": {},
   "outputs": [
    {
     "data": {
      "text/plain": [
       "['Samsung 80 cm (32 inch) HD Ready LED Smart TV, 4 Series 32T4450',\n",
       " 'Samsung 80 cm (32 inch) HD Smart LED TV, Series 4 32T4350AK',\n",
       " 'Samsung 108 cm (43 inch) Ultra HD (4K) LED Smart TV, 7 Series 43AU7700',\n",
       " 'Samsung 80 cm (32 inch) HD Ready LED Smart TV, Series 4 32T4600',\n",
       " 'Samsung 80 cm (32 inch) HD Ready LED Smart TV, Series 4 32T4900',\n",
       " 'Samsung 108 cm (43 inch) Full HD LED Smart TV, 5 Series 43T5350',\n",
       " 'Samsung 108 cm (43 inch) Ultra HD (4K) LED Smart TV, 8 Series 43AU8200',\n",
       " 'Samsung 108 cm (43 inch) Ultra HD (4K) LED Smart TV, 9 Series 43AU9070',\n",
       " 'Samsung 125 cm (50 inch) Ultra HD (4K) LED Smart TV, 50TU8000',\n",
       " 'Samsung 80 cm (32 inch) HD Ready LED Smart TV, 4 Series 32T4750',\n",
       " 'Samsung 108 cm (43 inch) Full HD LED Smart TV, 5 Series 43T5500']"
      ]
     },
     "execution_count": 35,
     "metadata": {},
     "output_type": "execute_result"
    }
   ],
   "source": [
    "#EXTRACTING WHOLE PAGE PRODUCT NAME\n",
    "BRAND_NAME=[]\n",
    "b=page_file.findAll(\"div\",{\"class\":'slider-text'})\n",
    "for i in b:\n",
    "    p=i.find_all(\"p\")\n",
    "    for i in p:\n",
    "        y=i.text\n",
    "        BRAND_NAME.append(y)\n",
    "BRAND_NAME"
   ]
  },
  {
   "cell_type": "code",
   "execution_count": 36,
   "id": "41dd9eaf",
   "metadata": {},
   "outputs": [
    {
     "data": {
      "text/plain": [
       "'₹20,990.00₹25,900.0019%(₹4,910)'"
      ]
     },
     "execution_count": 36,
     "metadata": {},
     "output_type": "execute_result"
    }
   ],
   "source": [
    "PRICE=page_file.find(\"div\",{\"class\":'sc-bwzfXH jWpSeo sc-bxivhb hILMWQ'})\n",
    "PRICE.text"
   ]
  },
  {
   "cell_type": "code",
   "execution_count": 37,
   "id": "4baad645",
   "metadata": {},
   "outputs": [
    {
     "name": "stdout",
     "output_type": "stream",
     "text": [
      "[20990, 20890, 47990, 23990, 26190, 37490, 48490, 48990, 49990, 22490, 38990]\n"
     ]
    }
   ],
   "source": [
    "#EXTRACTING NEW PRICE AND CLEANING THE DATA\n",
    "newprice=[]\n",
    "b=page_file.find_all(\"div\",{\"class\":'sc-bwzfXH jWpSeo sc-bxivhb hILMWQ'})\n",
    "for i in b:\n",
    "    p=i.find_all('span',{\"class\":'sc-bxivhb dmBTBc'})\n",
    "    for i in p:\n",
    "        y=i.text\n",
    "        newprice.append(int(float(y[1:].replace(',',''))))\n",
    "print(newprice)"
   ]
  },
  {
   "cell_type": "code",
   "execution_count": 38,
   "id": "a9ce6759",
   "metadata": {},
   "outputs": [
    {
     "data": {
      "text/plain": [
       "'₹25,900.00'"
      ]
     },
     "execution_count": 38,
     "metadata": {},
     "output_type": "execute_result"
    }
   ],
   "source": [
    "PRICE=page_file.find('em')\n",
    "PRICE.text"
   ]
  },
  {
   "cell_type": "code",
   "execution_count": 39,
   "id": "6384149a",
   "metadata": {},
   "outputs": [
    {
     "name": "stdout",
     "output_type": "stream",
     "text": [
      "['₹20,990.00', '₹', '20,990.00', '₹25,900.00', '₹', '25,900.00', '19%(₹4,910)', '₹20,890.00', '₹', '20,890.00', '₹24,900.00', '₹', '24,900.00', '16%(₹4,010)', '₹47,990.00', '₹', '47,990.00', '₹54,900.00', '₹', '54,900.00', '13%(₹6,910)', '₹23,990.00', '₹', '23,990.00', '₹26,900.00', '₹', '26,900.00', '11%(₹2,910)', '₹26,190.00', '₹', '26,190.00', '₹28,990.00', '₹', '28,990.00', '10%(₹2,800)', '₹37,490.00', '₹', '37,490.00', '₹42,400.00', '₹', '42,400.00', '12%(₹4,910)', '₹48,490.00', '₹', '48,490.00', '₹59,900.00', '₹', '59,900.00', '19%(₹11,410)', '₹48,990.00', '₹', '48,990.00', '₹62,900.00', '₹', '62,900.00', '22%(₹13,910)', '₹49,990.00', '₹', '49,990.00', '₹70,900.00', '₹', '70,900.00', '29%(₹20,910)', '₹22,490.00', '₹', '22,490.00', '₹25,900.00', '₹', '25,900.00', '13%(₹3,410)', '₹38,990.00', '₹', '38,990.00', '₹44,400.00', '₹', '44,400.00', '12%(₹5,410)']\n"
     ]
    }
   ],
   "source": [
    "# TAKING OLD PRICE IN A LIST AND CLEANING THE DATA\n",
    "x=[]\n",
    "b=page_file.findAll(\"div\",{\"class\":'sc-bwzfXH jWpSeo sc-bxivhb hILMWQ'})\n",
    "for j in b:\n",
    "    p=j.find_all('span')\n",
    "    for i in p:\n",
    "        y=i.text\n",
    "        x.append(y)\n",
    "print(x)"
   ]
  },
  {
   "cell_type": "code",
   "execution_count": 40,
   "id": "d1fe0f12",
   "metadata": {},
   "outputs": [
    {
     "name": "stdout",
     "output_type": "stream",
     "text": [
      "['₹25,900.00', '₹24,900.00', '₹54,900.00', '₹26,900.00', '₹28,990.00', '₹42,400.00', '₹59,900.00', '₹62,900.00', '₹70,900.00', '₹25,900.00', '₹44,400.00']\n"
     ]
    }
   ],
   "source": [
    "old_price = []\n",
    "for i in range(3, len(x)+1, 7):\n",
    "    old_price.append(x[i])\n",
    "print(old_price)"
   ]
  },
  {
   "cell_type": "code",
   "execution_count": 41,
   "id": "cfdeb2b1",
   "metadata": {},
   "outputs": [
    {
     "name": "stdout",
     "output_type": "stream",
     "text": [
      "[25900, 24900, 54900, 26900, 28990, 42400, 59900, 62900, 70900, 25900, 44400]\n"
     ]
    },
    {
     "data": {
      "text/plain": [
       "int"
      ]
     },
     "execution_count": 41,
     "metadata": {},
     "output_type": "execute_result"
    }
   ],
   "source": [
    "oldprice=[]\n",
    "for i in old_price:\n",
    "    y=i\n",
    "    oldprice.append(int(float(y[1:].replace(',',''))))\n",
    "print(oldprice)\n",
    "type(oldprice[1])"
   ]
  },
  {
   "cell_type": "code",
   "execution_count": 42,
   "id": "d71ea232",
   "metadata": {},
   "outputs": [
    {
     "name": "stdout",
     "output_type": "stream",
     "text": [
      "['19%(₹4,910)', '16%(₹4,010)', '13%(₹6,910)', '11%(₹2,910)', '10%(₹2,800)', '12%(₹4,910)', '19%(₹11,410)', '22%(₹13,910)', '29%(₹20,910)', '13%(₹3,410)', '12%(₹5,410)']\n"
     ]
    }
   ],
   "source": [
    "# EXTRACTING DISCOUNT \n",
    "D=[]\n",
    "b=page_file.findAll(\"div\",{\"class\":'sc-bwzfXH jWpSeo sc-bxivhb hILMWQ'})\n",
    "for j in b:\n",
    "    p=j.find_all('span',{\"class\":'sc-bwzfXH hMTXuH sc-bxivhb dwlVOi'})\n",
    "    for i in p:\n",
    "        y=i.text\n",
    "        D.append(y)\n",
    "print(D)"
   ]
  },
  {
   "cell_type": "code",
   "execution_count": 43,
   "id": "7dbb7b23",
   "metadata": {},
   "outputs": [
    {
     "name": "stdout",
     "output_type": "stream",
     "text": [
      "[4910, 4010, 6910, 2910, 2800, 4910, 11410, 13910, 20910, 3410, 5410]\n"
     ]
    }
   ],
   "source": [
    "dis_price=[]\n",
    "for i in range(len(oldprice)):\n",
    "    price=oldprice[i]-newprice[i]\n",
    "    dis_price.append(int(price))\n",
    "print(dis_price)"
   ]
  },
  {
   "cell_type": "code",
   "execution_count": 44,
   "id": "6ee963e7",
   "metadata": {},
   "outputs": [],
   "source": [
    "d2={'BRAND_NAME2':BRAND_NAME,'OLD_PRICE2':oldprice,'DISCOUNT2':D,'NEW_PRICE2':newprice,'D_PRICE':dis_price}"
   ]
  },
  {
   "cell_type": "code",
   "execution_count": 45,
   "id": "ac24fdb8",
   "metadata": {},
   "outputs": [
    {
     "data": {
      "text/html": [
       "<div>\n",
       "<style scoped>\n",
       "    .dataframe tbody tr th:only-of-type {\n",
       "        vertical-align: middle;\n",
       "    }\n",
       "\n",
       "    .dataframe tbody tr th {\n",
       "        vertical-align: top;\n",
       "    }\n",
       "\n",
       "    .dataframe thead th {\n",
       "        text-align: right;\n",
       "    }\n",
       "</style>\n",
       "<table border=\"1\" class=\"dataframe\">\n",
       "  <thead>\n",
       "    <tr style=\"text-align: right;\">\n",
       "      <th></th>\n",
       "      <th>BRAND_NAME2</th>\n",
       "      <th>OLD_PRICE2</th>\n",
       "      <th>DISCOUNT2</th>\n",
       "      <th>NEW_PRICE2</th>\n",
       "      <th>D_PRICE</th>\n",
       "    </tr>\n",
       "  </thead>\n",
       "  <tbody>\n",
       "    <tr>\n",
       "      <th>0</th>\n",
       "      <td>Samsung 80 cm (32 inch) HD Ready LED Smart TV,...</td>\n",
       "      <td>25900</td>\n",
       "      <td>19%(₹4,910)</td>\n",
       "      <td>20990</td>\n",
       "      <td>4910</td>\n",
       "    </tr>\n",
       "    <tr>\n",
       "      <th>1</th>\n",
       "      <td>Samsung 80 cm (32 inch) HD Smart LED TV, Serie...</td>\n",
       "      <td>24900</td>\n",
       "      <td>16%(₹4,010)</td>\n",
       "      <td>20890</td>\n",
       "      <td>4010</td>\n",
       "    </tr>\n",
       "    <tr>\n",
       "      <th>2</th>\n",
       "      <td>Samsung 108 cm (43 inch) Ultra HD (4K) LED Sma...</td>\n",
       "      <td>54900</td>\n",
       "      <td>13%(₹6,910)</td>\n",
       "      <td>47990</td>\n",
       "      <td>6910</td>\n",
       "    </tr>\n",
       "    <tr>\n",
       "      <th>3</th>\n",
       "      <td>Samsung 80 cm (32 inch) HD Ready LED Smart TV,...</td>\n",
       "      <td>26900</td>\n",
       "      <td>11%(₹2,910)</td>\n",
       "      <td>23990</td>\n",
       "      <td>2910</td>\n",
       "    </tr>\n",
       "    <tr>\n",
       "      <th>4</th>\n",
       "      <td>Samsung 80 cm (32 inch) HD Ready LED Smart TV,...</td>\n",
       "      <td>28990</td>\n",
       "      <td>10%(₹2,800)</td>\n",
       "      <td>26190</td>\n",
       "      <td>2800</td>\n",
       "    </tr>\n",
       "    <tr>\n",
       "      <th>5</th>\n",
       "      <td>Samsung 108 cm (43 inch) Full HD LED Smart TV,...</td>\n",
       "      <td>42400</td>\n",
       "      <td>12%(₹4,910)</td>\n",
       "      <td>37490</td>\n",
       "      <td>4910</td>\n",
       "    </tr>\n",
       "    <tr>\n",
       "      <th>6</th>\n",
       "      <td>Samsung 108 cm (43 inch) Ultra HD (4K) LED Sma...</td>\n",
       "      <td>59900</td>\n",
       "      <td>19%(₹11,410)</td>\n",
       "      <td>48490</td>\n",
       "      <td>11410</td>\n",
       "    </tr>\n",
       "    <tr>\n",
       "      <th>7</th>\n",
       "      <td>Samsung 108 cm (43 inch) Ultra HD (4K) LED Sma...</td>\n",
       "      <td>62900</td>\n",
       "      <td>22%(₹13,910)</td>\n",
       "      <td>48990</td>\n",
       "      <td>13910</td>\n",
       "    </tr>\n",
       "    <tr>\n",
       "      <th>8</th>\n",
       "      <td>Samsung 125 cm (50 inch) Ultra HD (4K) LED Sma...</td>\n",
       "      <td>70900</td>\n",
       "      <td>29%(₹20,910)</td>\n",
       "      <td>49990</td>\n",
       "      <td>20910</td>\n",
       "    </tr>\n",
       "    <tr>\n",
       "      <th>9</th>\n",
       "      <td>Samsung 80 cm (32 inch) HD Ready LED Smart TV,...</td>\n",
       "      <td>25900</td>\n",
       "      <td>13%(₹3,410)</td>\n",
       "      <td>22490</td>\n",
       "      <td>3410</td>\n",
       "    </tr>\n",
       "    <tr>\n",
       "      <th>10</th>\n",
       "      <td>Samsung 108 cm (43 inch) Full HD LED Smart TV,...</td>\n",
       "      <td>44400</td>\n",
       "      <td>12%(₹5,410)</td>\n",
       "      <td>38990</td>\n",
       "      <td>5410</td>\n",
       "    </tr>\n",
       "  </tbody>\n",
       "</table>\n",
       "</div>"
      ],
      "text/plain": [
       "                                          BRAND_NAME2  OLD_PRICE2  \\\n",
       "0   Samsung 80 cm (32 inch) HD Ready LED Smart TV,...       25900   \n",
       "1   Samsung 80 cm (32 inch) HD Smart LED TV, Serie...       24900   \n",
       "2   Samsung 108 cm (43 inch) Ultra HD (4K) LED Sma...       54900   \n",
       "3   Samsung 80 cm (32 inch) HD Ready LED Smart TV,...       26900   \n",
       "4   Samsung 80 cm (32 inch) HD Ready LED Smart TV,...       28990   \n",
       "5   Samsung 108 cm (43 inch) Full HD LED Smart TV,...       42400   \n",
       "6   Samsung 108 cm (43 inch) Ultra HD (4K) LED Sma...       59900   \n",
       "7   Samsung 108 cm (43 inch) Ultra HD (4K) LED Sma...       62900   \n",
       "8   Samsung 125 cm (50 inch) Ultra HD (4K) LED Sma...       70900   \n",
       "9   Samsung 80 cm (32 inch) HD Ready LED Smart TV,...       25900   \n",
       "10  Samsung 108 cm (43 inch) Full HD LED Smart TV,...       44400   \n",
       "\n",
       "       DISCOUNT2  NEW_PRICE2  D_PRICE  \n",
       "0    19%(₹4,910)       20990     4910  \n",
       "1    16%(₹4,010)       20890     4010  \n",
       "2    13%(₹6,910)       47990     6910  \n",
       "3    11%(₹2,910)       23990     2910  \n",
       "4    10%(₹2,800)       26190     2800  \n",
       "5    12%(₹4,910)       37490     4910  \n",
       "6   19%(₹11,410)       48490    11410  \n",
       "7   22%(₹13,910)       48990    13910  \n",
       "8   29%(₹20,910)       49990    20910  \n",
       "9    13%(₹3,410)       22490     3410  \n",
       "10   12%(₹5,410)       38990     5410  "
      ]
     },
     "execution_count": 45,
     "metadata": {},
     "output_type": "execute_result"
    }
   ],
   "source": [
    "df2=pd.DataFrame(d2)\n",
    "df2"
   ]
  },
  {
   "cell_type": "code",
   "execution_count": 46,
   "id": "05bdd2aa",
   "metadata": {
    "scrolled": true
   },
   "outputs": [
    {
     "data": {
      "text/html": [
       "<div>\n",
       "<style scoped>\n",
       "    .dataframe tbody tr th:only-of-type {\n",
       "        vertical-align: middle;\n",
       "    }\n",
       "\n",
       "    .dataframe tbody tr th {\n",
       "        vertical-align: top;\n",
       "    }\n",
       "\n",
       "    .dataframe thead th {\n",
       "        text-align: right;\n",
       "    }\n",
       "</style>\n",
       "<table border=\"1\" class=\"dataframe\">\n",
       "  <thead>\n",
       "    <tr style=\"text-align: right;\">\n",
       "      <th></th>\n",
       "      <th>BRAND_NAME1</th>\n",
       "      <th>OLD_PRICE1</th>\n",
       "      <th>DISCOUNT1</th>\n",
       "      <th>NEW_PRICE1</th>\n",
       "      <th>DIS_PRICE</th>\n",
       "      <th>BRAND_NAME2</th>\n",
       "      <th>OLD_PRICE2</th>\n",
       "      <th>DISCOUNT2</th>\n",
       "      <th>NEW_PRICE2</th>\n",
       "      <th>D_PRICE</th>\n",
       "    </tr>\n",
       "  </thead>\n",
       "  <tbody>\n",
       "    <tr>\n",
       "      <th>0</th>\n",
       "      <td>SAMSUNG 108 cm (43 inch) Full HD LED Smart TV</td>\n",
       "      <td>38900</td>\n",
       "      <td>17% off</td>\n",
       "      <td>31990</td>\n",
       "      <td>6910</td>\n",
       "      <td>Samsung 80 cm (32 inch) HD Ready LED Smart TV,...</td>\n",
       "      <td>25900</td>\n",
       "      <td>19%(₹4,910)</td>\n",
       "      <td>20990</td>\n",
       "      <td>4910</td>\n",
       "    </tr>\n",
       "    <tr>\n",
       "      <th>1</th>\n",
       "      <td>SAMSUNG Crystal 4K 108 cm (43 inch) Ultra HD (...</td>\n",
       "      <td>52900</td>\n",
       "      <td>28% off</td>\n",
       "      <td>37990</td>\n",
       "      <td>14910</td>\n",
       "      <td>Samsung 80 cm (32 inch) HD Smart LED TV, Serie...</td>\n",
       "      <td>24900</td>\n",
       "      <td>16%(₹4,010)</td>\n",
       "      <td>20890</td>\n",
       "      <td>4010</td>\n",
       "    </tr>\n",
       "    <tr>\n",
       "      <th>2</th>\n",
       "      <td>SAMSUNG Crystal 4K Pro 108 cm (43 inch) Ultra ...</td>\n",
       "      <td>54900</td>\n",
       "      <td>27% off</td>\n",
       "      <td>39990</td>\n",
       "      <td>14910</td>\n",
       "      <td>Samsung 108 cm (43 inch) Ultra HD (4K) LED Sma...</td>\n",
       "      <td>54900</td>\n",
       "      <td>13%(₹6,910)</td>\n",
       "      <td>47990</td>\n",
       "      <td>6910</td>\n",
       "    </tr>\n",
       "    <tr>\n",
       "      <th>3</th>\n",
       "      <td>SAMSUNG 80 cm (32 inch) HD Ready LED Smart TV</td>\n",
       "      <td>22900</td>\n",
       "      <td>9% off</td>\n",
       "      <td>20790</td>\n",
       "      <td>2110</td>\n",
       "      <td>Samsung 80 cm (32 inch) HD Ready LED Smart TV,...</td>\n",
       "      <td>26900</td>\n",
       "      <td>11%(₹2,910)</td>\n",
       "      <td>23990</td>\n",
       "      <td>2910</td>\n",
       "    </tr>\n",
       "    <tr>\n",
       "      <th>4</th>\n",
       "      <td>SAMSUNG 108 cm (43 inch) Full HD LED Smart TV</td>\n",
       "      <td>53000</td>\n",
       "      <td>21% off</td>\n",
       "      <td>41800</td>\n",
       "      <td>11200</td>\n",
       "      <td>Samsung 80 cm (32 inch) HD Ready LED Smart TV,...</td>\n",
       "      <td>28990</td>\n",
       "      <td>10%(₹2,800)</td>\n",
       "      <td>26190</td>\n",
       "      <td>2800</td>\n",
       "    </tr>\n",
       "    <tr>\n",
       "      <th>5</th>\n",
       "      <td>SAMSUNG 4 80 cm (32 inch) HD Ready LED Smart T...</td>\n",
       "      <td>26490</td>\n",
       "      <td>18% off</td>\n",
       "      <td>21690</td>\n",
       "      <td>4800</td>\n",
       "      <td>Samsung 108 cm (43 inch) Full HD LED Smart TV,...</td>\n",
       "      <td>42400</td>\n",
       "      <td>12%(₹4,910)</td>\n",
       "      <td>37490</td>\n",
       "      <td>4910</td>\n",
       "    </tr>\n",
       "    <tr>\n",
       "      <th>6</th>\n",
       "      <td>SAMSUNG 4 80 cm (32 inch) HD Ready LED Smart TV</td>\n",
       "      <td>26490</td>\n",
       "      <td>16% off</td>\n",
       "      <td>22140</td>\n",
       "      <td>4350</td>\n",
       "      <td>Samsung 108 cm (43 inch) Ultra HD (4K) LED Sma...</td>\n",
       "      <td>59900</td>\n",
       "      <td>19%(₹11,410)</td>\n",
       "      <td>48490</td>\n",
       "      <td>11410</td>\n",
       "    </tr>\n",
       "    <tr>\n",
       "      <th>7</th>\n",
       "      <td>SAMSUNG 108 cm (43 inch) Ultra HD (4K) LED Sma...</td>\n",
       "      <td>56900</td>\n",
       "      <td>20% off</td>\n",
       "      <td>45400</td>\n",
       "      <td>11500</td>\n",
       "      <td>Samsung 108 cm (43 inch) Ultra HD (4K) LED Sma...</td>\n",
       "      <td>62900</td>\n",
       "      <td>22%(₹13,910)</td>\n",
       "      <td>48990</td>\n",
       "      <td>13910</td>\n",
       "    </tr>\n",
       "    <tr>\n",
       "      <th>8</th>\n",
       "      <td>SAMSUNG 108 cm (43 inch) Full HD LED Smart TV</td>\n",
       "      <td>39900</td>\n",
       "      <td>9% off</td>\n",
       "      <td>36249</td>\n",
       "      <td>3651</td>\n",
       "      <td>Samsung 125 cm (50 inch) Ultra HD (4K) LED Sma...</td>\n",
       "      <td>70900</td>\n",
       "      <td>29%(₹20,910)</td>\n",
       "      <td>49990</td>\n",
       "      <td>20910</td>\n",
       "    </tr>\n",
       "    <tr>\n",
       "      <th>9</th>\n",
       "      <td>SAMSUNG 7 108 cm (43 inch) Ultra HD (4K) LED S...</td>\n",
       "      <td>49900</td>\n",
       "      <td>16% off</td>\n",
       "      <td>41529</td>\n",
       "      <td>8371</td>\n",
       "      <td>Samsung 80 cm (32 inch) HD Ready LED Smart TV,...</td>\n",
       "      <td>25900</td>\n",
       "      <td>13%(₹3,410)</td>\n",
       "      <td>22490</td>\n",
       "      <td>3410</td>\n",
       "    </tr>\n",
       "    <tr>\n",
       "      <th>10</th>\n",
       "      <td>SAMSUNG 8 108 cm (43 inch) Ultra HD (4K) LED S...</td>\n",
       "      <td>59900</td>\n",
       "      <td>17% off</td>\n",
       "      <td>49590</td>\n",
       "      <td>10310</td>\n",
       "      <td>Samsung 108 cm (43 inch) Full HD LED Smart TV,...</td>\n",
       "      <td>44400</td>\n",
       "      <td>12%(₹5,410)</td>\n",
       "      <td>38990</td>\n",
       "      <td>5410</td>\n",
       "    </tr>\n",
       "  </tbody>\n",
       "</table>\n",
       "</div>"
      ],
      "text/plain": [
       "                                          BRAND_NAME1  OLD_PRICE1 DISCOUNT1  \\\n",
       "0       SAMSUNG 108 cm (43 inch) Full HD LED Smart TV       38900   17% off   \n",
       "1   SAMSUNG Crystal 4K 108 cm (43 inch) Ultra HD (...       52900   28% off   \n",
       "2   SAMSUNG Crystal 4K Pro 108 cm (43 inch) Ultra ...       54900   27% off   \n",
       "3       SAMSUNG 80 cm (32 inch) HD Ready LED Smart TV       22900    9% off   \n",
       "4       SAMSUNG 108 cm (43 inch) Full HD LED Smart TV       53000   21% off   \n",
       "5   SAMSUNG 4 80 cm (32 inch) HD Ready LED Smart T...       26490   18% off   \n",
       "6     SAMSUNG 4 80 cm (32 inch) HD Ready LED Smart TV       26490   16% off   \n",
       "7   SAMSUNG 108 cm (43 inch) Ultra HD (4K) LED Sma...       56900   20% off   \n",
       "8       SAMSUNG 108 cm (43 inch) Full HD LED Smart TV       39900    9% off   \n",
       "9   SAMSUNG 7 108 cm (43 inch) Ultra HD (4K) LED S...       49900   16% off   \n",
       "10  SAMSUNG 8 108 cm (43 inch) Ultra HD (4K) LED S...       59900   17% off   \n",
       "\n",
       "    NEW_PRICE1  DIS_PRICE                                        BRAND_NAME2  \\\n",
       "0        31990       6910  Samsung 80 cm (32 inch) HD Ready LED Smart TV,...   \n",
       "1        37990      14910  Samsung 80 cm (32 inch) HD Smart LED TV, Serie...   \n",
       "2        39990      14910  Samsung 108 cm (43 inch) Ultra HD (4K) LED Sma...   \n",
       "3        20790       2110  Samsung 80 cm (32 inch) HD Ready LED Smart TV,...   \n",
       "4        41800      11200  Samsung 80 cm (32 inch) HD Ready LED Smart TV,...   \n",
       "5        21690       4800  Samsung 108 cm (43 inch) Full HD LED Smart TV,...   \n",
       "6        22140       4350  Samsung 108 cm (43 inch) Ultra HD (4K) LED Sma...   \n",
       "7        45400      11500  Samsung 108 cm (43 inch) Ultra HD (4K) LED Sma...   \n",
       "8        36249       3651  Samsung 125 cm (50 inch) Ultra HD (4K) LED Sma...   \n",
       "9        41529       8371  Samsung 80 cm (32 inch) HD Ready LED Smart TV,...   \n",
       "10       49590      10310  Samsung 108 cm (43 inch) Full HD LED Smart TV,...   \n",
       "\n",
       "    OLD_PRICE2     DISCOUNT2  NEW_PRICE2  D_PRICE  \n",
       "0        25900   19%(₹4,910)       20990     4910  \n",
       "1        24900   16%(₹4,010)       20890     4010  \n",
       "2        54900   13%(₹6,910)       47990     6910  \n",
       "3        26900   11%(₹2,910)       23990     2910  \n",
       "4        28990   10%(₹2,800)       26190     2800  \n",
       "5        42400   12%(₹4,910)       37490     4910  \n",
       "6        59900  19%(₹11,410)       48490    11410  \n",
       "7        62900  22%(₹13,910)       48990    13910  \n",
       "8        70900  29%(₹20,910)       49990    20910  \n",
       "9        25900   13%(₹3,410)       22490     3410  \n",
       "10       44400   12%(₹5,410)       38990     5410  "
      ]
     },
     "execution_count": 46,
     "metadata": {},
     "output_type": "execute_result"
    }
   ],
   "source": [
    "#DATA TRANSFORMATION\n",
    "d=df1.join(df2)     #JOINING 1ST AND 2ND WEBSITE DATASET\n",
    "df=pd.DataFrame(d)\n",
    "df"
   ]
  },
  {
   "cell_type": "code",
   "execution_count": 47,
   "id": "1182d585",
   "metadata": {},
   "outputs": [],
   "source": [
    "df.to_excel(\"PROJtele.xlsx\")"
   ]
  },
  {
   "cell_type": "code",
   "execution_count": 48,
   "id": "aa8b4f28",
   "metadata": {
    "scrolled": true
   },
   "outputs": [
    {
     "data": {
      "text/html": [
       "<div>\n",
       "<style scoped>\n",
       "    .dataframe tbody tr th:only-of-type {\n",
       "        vertical-align: middle;\n",
       "    }\n",
       "\n",
       "    .dataframe tbody tr th {\n",
       "        vertical-align: top;\n",
       "    }\n",
       "\n",
       "    .dataframe thead th {\n",
       "        text-align: right;\n",
       "    }\n",
       "</style>\n",
       "<table border=\"1\" class=\"dataframe\">\n",
       "  <thead>\n",
       "    <tr style=\"text-align: right;\">\n",
       "      <th></th>\n",
       "      <th>Unnamed: 0</th>\n",
       "      <th>BRAND_NAME1</th>\n",
       "      <th>OLD_PRICE1</th>\n",
       "      <th>DISCOUNT1</th>\n",
       "      <th>NEW_PRICE1</th>\n",
       "      <th>DIS_PRICE</th>\n",
       "      <th>BRAND_NAME2</th>\n",
       "      <th>OLD_PRICE2</th>\n",
       "      <th>DISCOUNT2</th>\n",
       "      <th>NEW_PRICE2</th>\n",
       "      <th>D_PRICE</th>\n",
       "    </tr>\n",
       "  </thead>\n",
       "  <tbody>\n",
       "    <tr>\n",
       "      <th>0</th>\n",
       "      <td>0</td>\n",
       "      <td>SAMSUNG 108 cm (43 inch) Full HD LED Smart TV</td>\n",
       "      <td>38900</td>\n",
       "      <td>17% off</td>\n",
       "      <td>31990</td>\n",
       "      <td>6910</td>\n",
       "      <td>Samsung 80 cm (32 inch) HD Ready LED Smart TV,...</td>\n",
       "      <td>25900</td>\n",
       "      <td>19%(?4,910)</td>\n",
       "      <td>20990</td>\n",
       "      <td>4910</td>\n",
       "    </tr>\n",
       "    <tr>\n",
       "      <th>1</th>\n",
       "      <td>1</td>\n",
       "      <td>SAMSUNG Crystal 4K 108 cm (43 inch) Ultra HD (...</td>\n",
       "      <td>52900</td>\n",
       "      <td>28% off</td>\n",
       "      <td>37990</td>\n",
       "      <td>14910</td>\n",
       "      <td>Samsung 80 cm (32 inch) HD Smart LED TV, Serie...</td>\n",
       "      <td>24900</td>\n",
       "      <td>16%(?4,010)</td>\n",
       "      <td>20890</td>\n",
       "      <td>4010</td>\n",
       "    </tr>\n",
       "    <tr>\n",
       "      <th>2</th>\n",
       "      <td>2</td>\n",
       "      <td>SAMSUNG Crystal 4K Pro 108 cm (43 inch) Ultra ...</td>\n",
       "      <td>54900</td>\n",
       "      <td>27% off</td>\n",
       "      <td>39990</td>\n",
       "      <td>14910</td>\n",
       "      <td>Samsung 108 cm (43 inch) Ultra HD (4K) LED Sma...</td>\n",
       "      <td>54900</td>\n",
       "      <td>14%(?7,910)</td>\n",
       "      <td>46990</td>\n",
       "      <td>7910</td>\n",
       "    </tr>\n",
       "    <tr>\n",
       "      <th>3</th>\n",
       "      <td>3</td>\n",
       "      <td>SAMSUNG 80 cm (32 inch) HD Ready LED Smart TV</td>\n",
       "      <td>22900</td>\n",
       "      <td>9% off</td>\n",
       "      <td>20790</td>\n",
       "      <td>2110</td>\n",
       "      <td>Samsung 80 cm (32 inch) HD Ready LED Smart TV,...</td>\n",
       "      <td>26900</td>\n",
       "      <td>11%(?2,910)</td>\n",
       "      <td>23990</td>\n",
       "      <td>2910</td>\n",
       "    </tr>\n",
       "    <tr>\n",
       "      <th>4</th>\n",
       "      <td>4</td>\n",
       "      <td>SAMSUNG 4 80 cm (32 inch) HD Ready LED Smart TV</td>\n",
       "      <td>26490</td>\n",
       "      <td>16% off</td>\n",
       "      <td>22140</td>\n",
       "      <td>4350</td>\n",
       "      <td>Samsung 80 cm (32 inch) HD Ready LED Smart TV,...</td>\n",
       "      <td>28990</td>\n",
       "      <td>10%(?2,800)</td>\n",
       "      <td>26190</td>\n",
       "      <td>2800</td>\n",
       "    </tr>\n",
       "    <tr>\n",
       "      <th>5</th>\n",
       "      <td>5</td>\n",
       "      <td>SAMSUNG 4 80 cm (32 inch) HD Ready LED Smart T...</td>\n",
       "      <td>26490</td>\n",
       "      <td>20% off</td>\n",
       "      <td>21150</td>\n",
       "      <td>5340</td>\n",
       "      <td>Samsung 108 cm (43 inch) Full HD LED Smart TV,...</td>\n",
       "      <td>42400</td>\n",
       "      <td>12%(?4,910)</td>\n",
       "      <td>37490</td>\n",
       "      <td>4910</td>\n",
       "    </tr>\n",
       "    <tr>\n",
       "      <th>6</th>\n",
       "      <td>6</td>\n",
       "      <td>SAMSUNG 108 cm (43 inch) Ultra HD (4K) LED Sma...</td>\n",
       "      <td>60900</td>\n",
       "      <td>19% off</td>\n",
       "      <td>48990</td>\n",
       "      <td>11910</td>\n",
       "      <td>Samsung 108 cm (43 inch) Ultra HD (4K) LED Sma...</td>\n",
       "      <td>59900</td>\n",
       "      <td>19%(?11,410)</td>\n",
       "      <td>48490</td>\n",
       "      <td>11410</td>\n",
       "    </tr>\n",
       "    <tr>\n",
       "      <th>7</th>\n",
       "      <td>7</td>\n",
       "      <td>SAMSUNG 108 cm (43 inch) Full HD LED Smart TV</td>\n",
       "      <td>53000</td>\n",
       "      <td>21% off</td>\n",
       "      <td>41800</td>\n",
       "      <td>11200</td>\n",
       "      <td>Samsung 108 cm (43 inch) Ultra HD (4K) LED Sma...</td>\n",
       "      <td>62900</td>\n",
       "      <td>22%(?13,910)</td>\n",
       "      <td>48990</td>\n",
       "      <td>13910</td>\n",
       "    </tr>\n",
       "    <tr>\n",
       "      <th>8</th>\n",
       "      <td>8</td>\n",
       "      <td>SAMSUNG 108 cm (43 inch) Ultra HD (4K) LED Sma...</td>\n",
       "      <td>56900</td>\n",
       "      <td>20% off</td>\n",
       "      <td>45400</td>\n",
       "      <td>11500</td>\n",
       "      <td>Samsung 125 cm (50 inch) Ultra HD (4K) LED Sma...</td>\n",
       "      <td>70900</td>\n",
       "      <td>29%(?20,910)</td>\n",
       "      <td>49990</td>\n",
       "      <td>20910</td>\n",
       "    </tr>\n",
       "    <tr>\n",
       "      <th>9</th>\n",
       "      <td>9</td>\n",
       "      <td>SAMSUNG 108 cm (43 inch) Full HD LED Smart TV</td>\n",
       "      <td>39900</td>\n",
       "      <td>9% off</td>\n",
       "      <td>36249</td>\n",
       "      <td>3651</td>\n",
       "      <td>Samsung 80 cm (32 inch) HD Ready LED Smart TV,...</td>\n",
       "      <td>25900</td>\n",
       "      <td>13%(?3,410)</td>\n",
       "      <td>22490</td>\n",
       "      <td>3410</td>\n",
       "    </tr>\n",
       "    <tr>\n",
       "      <th>10</th>\n",
       "      <td>10</td>\n",
       "      <td>SAMSUNG 7 108 cm (43 inch) Ultra HD (4K) LED S...</td>\n",
       "      <td>49900</td>\n",
       "      <td>16% off</td>\n",
       "      <td>41529</td>\n",
       "      <td>8371</td>\n",
       "      <td>Samsung 108 cm (43 inch) Full HD LED Smart TV,...</td>\n",
       "      <td>44400</td>\n",
       "      <td>12%(?5,410)</td>\n",
       "      <td>38990</td>\n",
       "      <td>5410</td>\n",
       "    </tr>\n",
       "  </tbody>\n",
       "</table>\n",
       "</div>"
      ],
      "text/plain": [
       "    Unnamed: 0                                        BRAND_NAME1  OLD_PRICE1  \\\n",
       "0            0      SAMSUNG 108 cm (43 inch) Full HD LED Smart TV       38900   \n",
       "1            1  SAMSUNG Crystal 4K 108 cm (43 inch) Ultra HD (...       52900   \n",
       "2            2  SAMSUNG Crystal 4K Pro 108 cm (43 inch) Ultra ...       54900   \n",
       "3            3      SAMSUNG 80 cm (32 inch) HD Ready LED Smart TV       22900   \n",
       "4            4    SAMSUNG 4 80 cm (32 inch) HD Ready LED Smart TV       26490   \n",
       "5            5  SAMSUNG 4 80 cm (32 inch) HD Ready LED Smart T...       26490   \n",
       "6            6  SAMSUNG 108 cm (43 inch) Ultra HD (4K) LED Sma...       60900   \n",
       "7            7      SAMSUNG 108 cm (43 inch) Full HD LED Smart TV       53000   \n",
       "8            8  SAMSUNG 108 cm (43 inch) Ultra HD (4K) LED Sma...       56900   \n",
       "9            9      SAMSUNG 108 cm (43 inch) Full HD LED Smart TV       39900   \n",
       "10          10  SAMSUNG 7 108 cm (43 inch) Ultra HD (4K) LED S...       49900   \n",
       "\n",
       "   DISCOUNT1  NEW_PRICE1  DIS_PRICE  \\\n",
       "0    17% off       31990       6910   \n",
       "1    28% off       37990      14910   \n",
       "2    27% off       39990      14910   \n",
       "3     9% off       20790       2110   \n",
       "4    16% off       22140       4350   \n",
       "5    20% off       21150       5340   \n",
       "6    19% off       48990      11910   \n",
       "7    21% off       41800      11200   \n",
       "8    20% off       45400      11500   \n",
       "9     9% off       36249       3651   \n",
       "10   16% off       41529       8371   \n",
       "\n",
       "                                          BRAND_NAME2  OLD_PRICE2  \\\n",
       "0   Samsung 80 cm (32 inch) HD Ready LED Smart TV,...       25900   \n",
       "1   Samsung 80 cm (32 inch) HD Smart LED TV, Serie...       24900   \n",
       "2   Samsung 108 cm (43 inch) Ultra HD (4K) LED Sma...       54900   \n",
       "3   Samsung 80 cm (32 inch) HD Ready LED Smart TV,...       26900   \n",
       "4   Samsung 80 cm (32 inch) HD Ready LED Smart TV,...       28990   \n",
       "5   Samsung 108 cm (43 inch) Full HD LED Smart TV,...       42400   \n",
       "6   Samsung 108 cm (43 inch) Ultra HD (4K) LED Sma...       59900   \n",
       "7   Samsung 108 cm (43 inch) Ultra HD (4K) LED Sma...       62900   \n",
       "8   Samsung 125 cm (50 inch) Ultra HD (4K) LED Sma...       70900   \n",
       "9   Samsung 80 cm (32 inch) HD Ready LED Smart TV,...       25900   \n",
       "10  Samsung 108 cm (43 inch) Full HD LED Smart TV,...       44400   \n",
       "\n",
       "       DISCOUNT2  NEW_PRICE2  D_PRICE  \n",
       "0    19%(?4,910)       20990     4910  \n",
       "1    16%(?4,010)       20890     4010  \n",
       "2    14%(?7,910)       46990     7910  \n",
       "3    11%(?2,910)       23990     2910  \n",
       "4    10%(?2,800)       26190     2800  \n",
       "5    12%(?4,910)       37490     4910  \n",
       "6   19%(?11,410)       48490    11410  \n",
       "7   22%(?13,910)       48990    13910  \n",
       "8   29%(?20,910)       49990    20910  \n",
       "9    13%(?3,410)       22490     3410  \n",
       "10   12%(?5,410)       38990     5410  "
      ]
     },
     "execution_count": 48,
     "metadata": {},
     "output_type": "execute_result"
    }
   ],
   "source": [
    "tel=pd.read_csv('PROJtele.csv')\n",
    "tel"
   ]
  },
  {
   "cell_type": "code",
   "execution_count": 49,
   "id": "f407f919",
   "metadata": {},
   "outputs": [],
   "source": [
    "del tel['Unnamed: 0']"
   ]
  },
  {
   "cell_type": "code",
   "execution_count": 50,
   "id": "6a3245a5",
   "metadata": {
    "scrolled": true
   },
   "outputs": [
    {
     "data": {
      "text/html": [
       "<div>\n",
       "<style scoped>\n",
       "    .dataframe tbody tr th:only-of-type {\n",
       "        vertical-align: middle;\n",
       "    }\n",
       "\n",
       "    .dataframe tbody tr th {\n",
       "        vertical-align: top;\n",
       "    }\n",
       "\n",
       "    .dataframe thead th {\n",
       "        text-align: right;\n",
       "    }\n",
       "</style>\n",
       "<table border=\"1\" class=\"dataframe\">\n",
       "  <thead>\n",
       "    <tr style=\"text-align: right;\">\n",
       "      <th></th>\n",
       "      <th>BRAND_NAME1</th>\n",
       "      <th>OLD_PRICE1</th>\n",
       "      <th>DISCOUNT1</th>\n",
       "      <th>NEW_PRICE1</th>\n",
       "      <th>DIS_PRICE</th>\n",
       "      <th>BRAND_NAME2</th>\n",
       "      <th>OLD_PRICE2</th>\n",
       "      <th>DISCOUNT2</th>\n",
       "      <th>NEW_PRICE2</th>\n",
       "      <th>D_PRICE</th>\n",
       "    </tr>\n",
       "  </thead>\n",
       "  <tbody>\n",
       "    <tr>\n",
       "      <th>1</th>\n",
       "      <td>SAMSUNG 108 cm (43 inch) Full HD LED Smart TV</td>\n",
       "      <td>38900</td>\n",
       "      <td>17% off</td>\n",
       "      <td>31990</td>\n",
       "      <td>6910</td>\n",
       "      <td>Samsung 80 cm (32 inch) HD Ready LED Smart TV,...</td>\n",
       "      <td>25900</td>\n",
       "      <td>19%(?4,910)</td>\n",
       "      <td>20990</td>\n",
       "      <td>4910</td>\n",
       "    </tr>\n",
       "    <tr>\n",
       "      <th>2</th>\n",
       "      <td>SAMSUNG Crystal 4K 108 cm (43 inch) Ultra HD (...</td>\n",
       "      <td>52900</td>\n",
       "      <td>28% off</td>\n",
       "      <td>37990</td>\n",
       "      <td>14910</td>\n",
       "      <td>Samsung 80 cm (32 inch) HD Smart LED TV, Serie...</td>\n",
       "      <td>24900</td>\n",
       "      <td>16%(?4,010)</td>\n",
       "      <td>20890</td>\n",
       "      <td>4010</td>\n",
       "    </tr>\n",
       "    <tr>\n",
       "      <th>3</th>\n",
       "      <td>SAMSUNG Crystal 4K Pro 108 cm (43 inch) Ultra ...</td>\n",
       "      <td>54900</td>\n",
       "      <td>27% off</td>\n",
       "      <td>39990</td>\n",
       "      <td>14910</td>\n",
       "      <td>Samsung 108 cm (43 inch) Ultra HD (4K) LED Sma...</td>\n",
       "      <td>54900</td>\n",
       "      <td>14%(?7,910)</td>\n",
       "      <td>46990</td>\n",
       "      <td>7910</td>\n",
       "    </tr>\n",
       "    <tr>\n",
       "      <th>4</th>\n",
       "      <td>SAMSUNG 80 cm (32 inch) HD Ready LED Smart TV</td>\n",
       "      <td>22900</td>\n",
       "      <td>9% off</td>\n",
       "      <td>20790</td>\n",
       "      <td>2110</td>\n",
       "      <td>Samsung 80 cm (32 inch) HD Ready LED Smart TV,...</td>\n",
       "      <td>26900</td>\n",
       "      <td>11%(?2,910)</td>\n",
       "      <td>23990</td>\n",
       "      <td>2910</td>\n",
       "    </tr>\n",
       "    <tr>\n",
       "      <th>5</th>\n",
       "      <td>SAMSUNG 4 80 cm (32 inch) HD Ready LED Smart TV</td>\n",
       "      <td>26490</td>\n",
       "      <td>16% off</td>\n",
       "      <td>22140</td>\n",
       "      <td>4350</td>\n",
       "      <td>Samsung 80 cm (32 inch) HD Ready LED Smart TV,...</td>\n",
       "      <td>28990</td>\n",
       "      <td>10%(?2,800)</td>\n",
       "      <td>26190</td>\n",
       "      <td>2800</td>\n",
       "    </tr>\n",
       "    <tr>\n",
       "      <th>6</th>\n",
       "      <td>SAMSUNG 4 80 cm (32 inch) HD Ready LED Smart T...</td>\n",
       "      <td>26490</td>\n",
       "      <td>20% off</td>\n",
       "      <td>21150</td>\n",
       "      <td>5340</td>\n",
       "      <td>Samsung 108 cm (43 inch) Full HD LED Smart TV,...</td>\n",
       "      <td>42400</td>\n",
       "      <td>12%(?4,910)</td>\n",
       "      <td>37490</td>\n",
       "      <td>4910</td>\n",
       "    </tr>\n",
       "    <tr>\n",
       "      <th>7</th>\n",
       "      <td>SAMSUNG 108 cm (43 inch) Ultra HD (4K) LED Sma...</td>\n",
       "      <td>60900</td>\n",
       "      <td>19% off</td>\n",
       "      <td>48990</td>\n",
       "      <td>11910</td>\n",
       "      <td>Samsung 108 cm (43 inch) Ultra HD (4K) LED Sma...</td>\n",
       "      <td>59900</td>\n",
       "      <td>19%(?11,410)</td>\n",
       "      <td>48490</td>\n",
       "      <td>11410</td>\n",
       "    </tr>\n",
       "    <tr>\n",
       "      <th>8</th>\n",
       "      <td>SAMSUNG 108 cm (43 inch) Full HD LED Smart TV</td>\n",
       "      <td>53000</td>\n",
       "      <td>21% off</td>\n",
       "      <td>41800</td>\n",
       "      <td>11200</td>\n",
       "      <td>Samsung 108 cm (43 inch) Ultra HD (4K) LED Sma...</td>\n",
       "      <td>62900</td>\n",
       "      <td>22%(?13,910)</td>\n",
       "      <td>48990</td>\n",
       "      <td>13910</td>\n",
       "    </tr>\n",
       "    <tr>\n",
       "      <th>9</th>\n",
       "      <td>SAMSUNG 108 cm (43 inch) Ultra HD (4K) LED Sma...</td>\n",
       "      <td>56900</td>\n",
       "      <td>20% off</td>\n",
       "      <td>45400</td>\n",
       "      <td>11500</td>\n",
       "      <td>Samsung 125 cm (50 inch) Ultra HD (4K) LED Sma...</td>\n",
       "      <td>70900</td>\n",
       "      <td>29%(?20,910)</td>\n",
       "      <td>49990</td>\n",
       "      <td>20910</td>\n",
       "    </tr>\n",
       "    <tr>\n",
       "      <th>10</th>\n",
       "      <td>SAMSUNG 108 cm (43 inch) Full HD LED Smart TV</td>\n",
       "      <td>39900</td>\n",
       "      <td>9% off</td>\n",
       "      <td>36249</td>\n",
       "      <td>3651</td>\n",
       "      <td>Samsung 80 cm (32 inch) HD Ready LED Smart TV,...</td>\n",
       "      <td>25900</td>\n",
       "      <td>13%(?3,410)</td>\n",
       "      <td>22490</td>\n",
       "      <td>3410</td>\n",
       "    </tr>\n",
       "    <tr>\n",
       "      <th>11</th>\n",
       "      <td>SAMSUNG 7 108 cm (43 inch) Ultra HD (4K) LED S...</td>\n",
       "      <td>49900</td>\n",
       "      <td>16% off</td>\n",
       "      <td>41529</td>\n",
       "      <td>8371</td>\n",
       "      <td>Samsung 108 cm (43 inch) Full HD LED Smart TV,...</td>\n",
       "      <td>44400</td>\n",
       "      <td>12%(?5,410)</td>\n",
       "      <td>38990</td>\n",
       "      <td>5410</td>\n",
       "    </tr>\n",
       "  </tbody>\n",
       "</table>\n",
       "</div>"
      ],
      "text/plain": [
       "                                          BRAND_NAME1  OLD_PRICE1 DISCOUNT1  \\\n",
       "1       SAMSUNG 108 cm (43 inch) Full HD LED Smart TV       38900   17% off   \n",
       "2   SAMSUNG Crystal 4K 108 cm (43 inch) Ultra HD (...       52900   28% off   \n",
       "3   SAMSUNG Crystal 4K Pro 108 cm (43 inch) Ultra ...       54900   27% off   \n",
       "4       SAMSUNG 80 cm (32 inch) HD Ready LED Smart TV       22900    9% off   \n",
       "5     SAMSUNG 4 80 cm (32 inch) HD Ready LED Smart TV       26490   16% off   \n",
       "6   SAMSUNG 4 80 cm (32 inch) HD Ready LED Smart T...       26490   20% off   \n",
       "7   SAMSUNG 108 cm (43 inch) Ultra HD (4K) LED Sma...       60900   19% off   \n",
       "8       SAMSUNG 108 cm (43 inch) Full HD LED Smart TV       53000   21% off   \n",
       "9   SAMSUNG 108 cm (43 inch) Ultra HD (4K) LED Sma...       56900   20% off   \n",
       "10      SAMSUNG 108 cm (43 inch) Full HD LED Smart TV       39900    9% off   \n",
       "11  SAMSUNG 7 108 cm (43 inch) Ultra HD (4K) LED S...       49900   16% off   \n",
       "\n",
       "    NEW_PRICE1  DIS_PRICE                                        BRAND_NAME2  \\\n",
       "1        31990       6910  Samsung 80 cm (32 inch) HD Ready LED Smart TV,...   \n",
       "2        37990      14910  Samsung 80 cm (32 inch) HD Smart LED TV, Serie...   \n",
       "3        39990      14910  Samsung 108 cm (43 inch) Ultra HD (4K) LED Sma...   \n",
       "4        20790       2110  Samsung 80 cm (32 inch) HD Ready LED Smart TV,...   \n",
       "5        22140       4350  Samsung 80 cm (32 inch) HD Ready LED Smart TV,...   \n",
       "6        21150       5340  Samsung 108 cm (43 inch) Full HD LED Smart TV,...   \n",
       "7        48990      11910  Samsung 108 cm (43 inch) Ultra HD (4K) LED Sma...   \n",
       "8        41800      11200  Samsung 108 cm (43 inch) Ultra HD (4K) LED Sma...   \n",
       "9        45400      11500  Samsung 125 cm (50 inch) Ultra HD (4K) LED Sma...   \n",
       "10       36249       3651  Samsung 80 cm (32 inch) HD Ready LED Smart TV,...   \n",
       "11       41529       8371  Samsung 108 cm (43 inch) Full HD LED Smart TV,...   \n",
       "\n",
       "    OLD_PRICE2     DISCOUNT2  NEW_PRICE2  D_PRICE  \n",
       "1        25900   19%(?4,910)       20990     4910  \n",
       "2        24900   16%(?4,010)       20890     4010  \n",
       "3        54900   14%(?7,910)       46990     7910  \n",
       "4        26900   11%(?2,910)       23990     2910  \n",
       "5        28990   10%(?2,800)       26190     2800  \n",
       "6        42400   12%(?4,910)       37490     4910  \n",
       "7        59900  19%(?11,410)       48490    11410  \n",
       "8        62900  22%(?13,910)       48990    13910  \n",
       "9        70900  29%(?20,910)       49990    20910  \n",
       "10       25900   13%(?3,410)       22490     3410  \n",
       "11       44400   12%(?5,410)       38990     5410  "
      ]
     },
     "execution_count": 50,
     "metadata": {},
     "output_type": "execute_result"
    }
   ],
   "source": [
    "tel.index=np.arange(1,len(tel)+1) #to start index from 1\n",
    "tel"
   ]
  },
  {
   "cell_type": "code",
   "execution_count": 51,
   "id": "5c966175",
   "metadata": {},
   "outputs": [
    {
     "data": {
      "text/plain": [
       "<AxesSubplot:>"
      ]
     },
     "execution_count": 51,
     "metadata": {},
     "output_type": "execute_result"
    },
    {
     "data": {
      "image/png": "[encoded data removed]",
      "text/plain": [
       "<Figure size 432x288 with 2 Axes>"
      ]
     },
     "metadata": {
      "needs_background": "light"
     },
     "output_type": "display_data"
    }
   ],
   "source": [
    "import matplotlib.pyplot as plt\n",
    "import seaborn as sns\n",
    "%matplotlib inline\n",
    "\n",
    "x=tel.corr()\n",
    "sns.heatmap(x) # numerical data's will be shown"
   ]
  },
  {
   "cell_type": "code",
   "execution_count": 52,
   "id": "7f38c76a",
   "metadata": {},
   "outputs": [
    {
     "data": {
      "text/plain": [
       "11"
      ]
     },
     "execution_count": 52,
     "metadata": {},
     "output_type": "execute_result"
    }
   ],
   "source": [
    "# from here inferential statistics \n",
    "A=tel.shape[0]\n",
    "A"
   ]
  },
  {
   "cell_type": "code",
   "execution_count": 53,
   "id": "dad73b7c",
   "metadata": {},
   "outputs": [
    {
     "data": {
      "text/plain": [
       "11"
      ]
     },
     "execution_count": 53,
     "metadata": {},
     "output_type": "execute_result"
    }
   ],
   "source": [
    "tel['D_PRICE'].value_counts().sum()"
   ]
  },
  {
   "cell_type": "code",
   "execution_count": 54,
   "id": "fa0f4e0a",
   "metadata": {},
   "outputs": [
    {
     "data": {
      "text/plain": [
       "2"
      ]
     },
     "execution_count": 54,
     "metadata": {},
     "output_type": "execute_result"
    }
   ],
   "source": [
    "B=tel[tel['D_PRICE']==4910].shape[0]\n",
    "B"
   ]
  },
  {
   "cell_type": "code",
   "execution_count": 55,
   "id": "e3999c4c",
   "metadata": {},
   "outputs": [
    {
     "name": "stdout",
     "output_type": "stream",
     "text": [
      "18.18\n"
     ]
    }
   ],
   "source": [
    "#PROBABILITY of D_PRICE\n",
    "prob=(B/A)*100\n",
    "print(round(prob,2))"
   ]
  },
  {
   "cell_type": "code",
   "execution_count": 56,
   "id": "8c2c7de6",
   "metadata": {},
   "outputs": [
    {
     "data": {
      "text/plain": [
       "1.8181818181818183"
      ]
     },
     "execution_count": 56,
     "metadata": {},
     "output_type": "execute_result"
    }
   ],
   "source": [
    "#CONDITIONAL PROBABILITY\n",
    "cond=(B/A)*((B-1)/(A-1))\n",
    "cond*100"
   ]
  },
  {
   "cell_type": "code",
   "execution_count": 57,
   "id": "d30a38d3",
   "metadata": {
    "scrolled": true
   },
   "outputs": [
    {
     "name": "stderr",
     "output_type": "stream",
     "text": [
      "C:\\Users\\saadh\\anaconda3\\lib\\site-packages\\seaborn\\distributions.py:2557: FutureWarning: `distplot` is a deprecated function and will be removed in a future version. Please adapt your code to use either `displot` (a figure-level function with similar flexibility) or `histplot` (an axes-level function for histograms).\n",
      "  warnings.warn(msg, FutureWarning)\n"
     ]
    },
    {
     "data": {
      "image/png": "[encoded data removed]",
      "text/plain": [
       "<Figure size 432x288 with 1 Axes>"
      ]
     },
     "metadata": {
      "needs_background": "light"
     },
     "output_type": "display_data"
    },
    {
     "name": "stderr",
     "output_type": "stream",
     "text": [
      "C:\\Users\\saadh\\anaconda3\\lib\\site-packages\\seaborn\\distributions.py:2557: FutureWarning: `distplot` is a deprecated function and will be removed in a future version. Please adapt your code to use either `displot` (a figure-level function with similar flexibility) or `histplot` (an axes-level function for histograms).\n",
      "  warnings.warn(msg, FutureWarning)\n"
     ]
    },
    {
     "data": {
      "image/png": "[encoded data removed]",
      "text/plain": [
       "<Figure size 432x288 with 1 Axes>"
      ]
     },
     "metadata": {
      "needs_background": "light"
     },
     "output_type": "display_data"
    }
   ],
   "source": [
    "#SKEWNESS OF DISCOUNT PRICE\n",
    "sns.distplot(tel['DIS_PRICE'])\n",
    "plt.show()\n",
    "sns.distplot(tel['D_PRICE'])        \n",
    "plt.show()"
   ]
  },
  {
   "cell_type": "code",
   "execution_count": 75,
   "id": "e40c05a2",
   "metadata": {},
   "outputs": [
    {
     "data": {
      "text/plain": [
       "array([ 4350, 11200,  2110, 14910,  8371], dtype=int64)"
      ]
     },
     "execution_count": 75,
     "metadata": {},
     "output_type": "execute_result"
    }
   ],
   "source": [
    "#using sample data to analyse margin error\n",
    "sample=np.random.choice(a=tel['DIS_PRICE'],size=5)\n",
    "sample"
   ]
  },
  {
   "cell_type": "code",
   "execution_count": 76,
   "id": "8254bf8a",
   "metadata": {},
   "outputs": [
    {
     "data": {
      "text/plain": [
       "8188.2"
      ]
     },
     "execution_count": 76,
     "metadata": {},
     "output_type": "execute_result"
    }
   ],
   "source": [
    "k=sample.mean()\n",
    "k"
   ]
  },
  {
   "cell_type": "code",
   "execution_count": 77,
   "id": "d4237dd3",
   "metadata": {},
   "outputs": [
    {
     "data": {
      "text/plain": [
       "1.6448536269514722"
      ]
     },
     "execution_count": 77,
     "metadata": {},
     "output_type": "execute_result"
    }
   ],
   "source": [
    "import scipy.stats as st\n",
    "z=st.norm.ppf(q=0.95)   #Z-score for the sample mean \n",
    "z"
   ]
  },
  {
   "cell_type": "code",
   "execution_count": 78,
   "id": "d6570081",
   "metadata": {},
   "outputs": [
    {
     "data": {
      "text/plain": [
       "4515.981940941427"
      ]
     },
     "execution_count": 78,
     "metadata": {},
     "output_type": "execute_result"
    }
   ],
   "source": [
    "sd=tel['DIS_PRICE'].std()\n",
    "sd"
   ]
  },
  {
   "cell_type": "code",
   "execution_count": 79,
   "id": "0f92bd05",
   "metadata": {},
   "outputs": [
    {
     "name": "stdout",
     "output_type": "stream",
     "text": [
      "margin error in standard deviation 82.08905050668268\n"
     ]
    }
   ],
   "source": [
    "import math\n",
    "marginerror=z*(sd/math.sqrt(k))\n",
    "print(\"margin error in standard deviation\",marginerror) #error analysis"
   ]
  },
  {
   "cell_type": "code",
   "execution_count": 80,
   "id": "4acc8710",
   "metadata": {},
   "outputs": [
    {
     "data": {
      "text/plain": [
       "(8106.110949493317, 8270.289050506683)"
      ]
     },
     "execution_count": 80,
     "metadata": {},
     "output_type": "execute_result"
    }
   ],
   "source": [
    "#margin error \n",
    "c=(k-marginerror,k+marginerror)\n",
    "c"
   ]
  },
  {
   "cell_type": "code",
   "execution_count": 81,
   "id": "386847f7",
   "metadata": {},
   "outputs": [
    {
     "data": {
      "text/plain": [
       "8651.09090909091"
      ]
     },
     "execution_count": 81,
     "metadata": {},
     "output_type": "execute_result"
    }
   ],
   "source": [
    "#COMPARISION OF DISCOUNTS ON 2 WEBSITES\n",
    "tel['DIS_PRICE'].mean() #FLIPKART DISCOUNT"
   ]
  },
  {
   "cell_type": "code",
   "execution_count": 82,
   "id": "6c531af8",
   "metadata": {},
   "outputs": [
    {
     "data": {
      "text/plain": [
       "7500.0"
      ]
     },
     "execution_count": 82,
     "metadata": {},
     "output_type": "execute_result"
    }
   ],
   "source": [
    "tel['D_PRICE'].mean() #RELIANCE DIGITAL DISCOUNT"
   ]
  },
  {
   "cell_type": "code",
   "execution_count": null,
   "id": "15d9b1bd",
   "metadata": {},
   "outputs": [],
   "source": [
    "SO, Flipkart is giving higher dicount than reliance digital"
   ]
  },
  {
   "cell_type": "code",
   "execution_count": 67,
   "id": "15f7c4c9",
   "metadata": {},
   "outputs": [
    {
     "data": {
      "text/plain": [
       "<matplotlib.legend.Legend at 0x160723645b0>"
      ]
     },
     "execution_count": 67,
     "metadata": {},
     "output_type": "execute_result"
    },
    {
     "data": {
      "image/png": "[encoded data removed]",
      "text/plain": [
       "<Figure size 288x144 with 1 Axes>"
      ]
     },
     "metadata": {
      "needs_background": "light"
     },
     "output_type": "display_data"
    }
   ],
   "source": [
    "# VISUAISATION OF BIVARIATE \n",
    "plt.figure(figsize=(4,2))\n",
    "sns.scatterplot(x=tel.OLD_PRICE1,y=tel.NEW_PRICE1,s=30)\n",
    "sns.scatterplot(x=tel.OLD_PRICE2,y=tel.NEW_PRICE2,s=30)\n",
    "plt.xlabel('OLD_PRICE')\n",
    "plt.ylabel('NEW_PRICE')\n",
    "plt.title(\"PRICE RANGE\")\n",
    "plt.legend(['BRAND1','BRAND2'])"
   ]
  },
  {
   "cell_type": "code",
   "execution_count": 68,
   "id": "79b437f9",
   "metadata": {},
   "outputs": [
    {
     "data": {
      "text/plain": [
       "<matplotlib.legend.Legend at 0x1607239fa60>"
      ]
     },
     "execution_count": 68,
     "metadata": {},
     "output_type": "execute_result"
    },
    {
     "data": {
      "image/png": "[encoded data removed]",
      "text/plain": [
       "<Figure size 360x216 with 1 Axes>"
      ]
     },
     "metadata": {
      "needs_background": "light"
     },
     "output_type": "display_data"
    }
   ],
   "source": [
    "# VISUAISATION OF MULTIVARIATE \n",
    "plt.figure(figsize=(5,3))\n",
    "plt.xlabel('OLD_PRICE')\n",
    "plt.ylabel('NEW_PRICE')\n",
    "plt.title(\"distribution of price\")\n",
    "plt.hist(tel.OLD_PRICE1,bins=10)\n",
    "plt.hist(tel.NEW_PRICE1,bins=10)\n",
    "plt.hist(tel.OLD_PRICE2,bins=10)\n",
    "plt.hist(tel.NEW_PRICE2,bins=10)\n",
    "plt.legend(['OLD_PRICE1','NEW_PRICE1','OLD_PRICE2','NEW_PRICE2'])"
   ]
  },
  {
   "cell_type": "code",
   "execution_count": null,
   "id": "d8abdcb9",
   "metadata": {},
   "outputs": [],
   "source": []
  }
 ],
 "metadata": {
  "kernelspec": {
   "display_name": "Python 3",
   "language": "python",
   "name": "python3"
  },
  "language_info": {
   "codemirror_mode": {
    "name": "ipython",
    "version": 3
   },
   "file_extension": ".py",
   "mimetype": "text/x-python",
   "name": "python",
   "nbconvert_exporter": "python",
   "pygments_lexer": "ipython3",
   "version": "3.8.8"
  }
 },
 "nbformat": 4,
 "nbformat_minor": 5
}
