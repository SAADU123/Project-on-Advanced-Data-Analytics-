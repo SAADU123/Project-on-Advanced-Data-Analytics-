{
 "cells": [
  {
   "cell_type": "code",
   "execution_count": 1,
   "id": "775a72a5",
   "metadata": {},
   "outputs": [],
   "source": [
    "import pandas as pd\n",
    "import numpy as np\n",
    "from bs4 import BeautifulSoup as s\n",
    "from urllib.request import urlopen as u"
   ]
  },
  {
   "cell_type": "code",
   "execution_count": 2,
   "id": "da17f0f7",
   "metadata": {
    "scrolled": true
   },
   "outputs": [
    {
     "data": {
      "text/html": [
       "<div>\n",
       "<style scoped>\n",
       "    .dataframe tbody tr th:only-of-type {\n",
       "        vertical-align: middle;\n",
       "    }\n",
       "\n",
       "    .dataframe tbody tr th {\n",
       "        vertical-align: top;\n",
       "    }\n",
       "\n",
       "    .dataframe thead th {\n",
       "        text-align: right;\n",
       "    }\n",
       "</style>\n",
       "<table border=\"1\" class=\"dataframe\">\n",
       "  <thead>\n",
       "    <tr style=\"text-align: right;\">\n",
       "      <th></th>\n",
       "      <th>Unnamed: 0</th>\n",
       "      <th>BRAND_NAME1</th>\n",
       "      <th>OLD_PRICE1</th>\n",
       "      <th>DISCOUNT1</th>\n",
       "      <th>NEW_PRICE1</th>\n",
       "      <th>DIS_PRICE</th>\n",
       "      <th>BRAND_NAME2</th>\n",
       "      <th>OLD_PRICE2</th>\n",
       "      <th>DISCOUNT2</th>\n",
       "      <th>NEW_PRICE2</th>\n",
       "      <th>D_PRICE</th>\n",
       "    </tr>\n",
       "  </thead>\n",
       "  <tbody>\n",
       "    <tr>\n",
       "      <th>0</th>\n",
       "      <td>0</td>\n",
       "      <td>SAMSUNG 108 cm (43 inch) Full HD LED Smart TV</td>\n",
       "      <td>38900</td>\n",
       "      <td>17% off</td>\n",
       "      <td>31990</td>\n",
       "      <td>6910</td>\n",
       "      <td>Samsung 80 cm (32 inch) HD Ready LED Smart TV,...</td>\n",
       "      <td>25900</td>\n",
       "      <td>19%(?4,910)</td>\n",
       "      <td>20990</td>\n",
       "      <td>4910</td>\n",
       "    </tr>\n",
       "    <tr>\n",
       "      <th>1</th>\n",
       "      <td>1</td>\n",
       "      <td>SAMSUNG Crystal 4K 108 cm (43 inch) Ultra HD (...</td>\n",
       "      <td>52900</td>\n",
       "      <td>28% off</td>\n",
       "      <td>37990</td>\n",
       "      <td>14910</td>\n",
       "      <td>Samsung 80 cm (32 inch) HD Smart LED TV, Serie...</td>\n",
       "      <td>24900</td>\n",
       "      <td>16%(?4,010)</td>\n",
       "      <td>20890</td>\n",
       "      <td>4010</td>\n",
       "    </tr>\n",
       "    <tr>\n",
       "      <th>2</th>\n",
       "      <td>2</td>\n",
       "      <td>SAMSUNG Crystal 4K Pro 108 cm (43 inch) Ultra ...</td>\n",
       "      <td>54900</td>\n",
       "      <td>27% off</td>\n",
       "      <td>39990</td>\n",
       "      <td>14910</td>\n",
       "      <td>Samsung 108 cm (43 inch) Ultra HD (4K) LED Sma...</td>\n",
       "      <td>54900</td>\n",
       "      <td>14%(?7,910)</td>\n",
       "      <td>46990</td>\n",
       "      <td>7910</td>\n",
       "    </tr>\n",
       "    <tr>\n",
       "      <th>3</th>\n",
       "      <td>3</td>\n",
       "      <td>SAMSUNG 80 cm (32 inch) HD Ready LED Smart TV</td>\n",
       "      <td>22900</td>\n",
       "      <td>9% off</td>\n",
       "      <td>20790</td>\n",
       "      <td>2110</td>\n",
       "      <td>Samsung 80 cm (32 inch) HD Ready LED Smart TV,...</td>\n",
       "      <td>26900</td>\n",
       "      <td>11%(?2,910)</td>\n",
       "      <td>23990</td>\n",
       "      <td>2910</td>\n",
       "    </tr>\n",
       "    <tr>\n",
       "      <th>4</th>\n",
       "      <td>4</td>\n",
       "      <td>SAMSUNG 4 80 cm (32 inch) HD Ready LED Smart TV</td>\n",
       "      <td>26490</td>\n",
       "      <td>16% off</td>\n",
       "      <td>22140</td>\n",
       "      <td>4350</td>\n",
       "      <td>Samsung 80 cm (32 inch) HD Ready LED Smart TV,...</td>\n",
       "      <td>28990</td>\n",
       "      <td>10%(?2,800)</td>\n",
       "      <td>26190</td>\n",
       "      <td>2800</td>\n",
       "    </tr>\n",
       "    <tr>\n",
       "      <th>5</th>\n",
       "      <td>5</td>\n",
       "      <td>SAMSUNG 4 80 cm (32 inch) HD Ready LED Smart T...</td>\n",
       "      <td>26490</td>\n",
       "      <td>20% off</td>\n",
       "      <td>21150</td>\n",
       "      <td>5340</td>\n",
       "      <td>Samsung 108 cm (43 inch) Full HD LED Smart TV,...</td>\n",
       "      <td>42400</td>\n",
       "      <td>12%(?4,910)</td>\n",
       "      <td>37490</td>\n",
       "      <td>4910</td>\n",
       "    </tr>\n",
       "    <tr>\n",
       "      <th>6</th>\n",
       "      <td>6</td>\n",
       "      <td>SAMSUNG 108 cm (43 inch) Ultra HD (4K) LED Sma...</td>\n",
       "      <td>60900</td>\n",
       "      <td>19% off</td>\n",
       "      <td>48990</td>\n",
       "      <td>11910</td>\n",
       "      <td>Samsung 108 cm (43 inch) Ultra HD (4K) LED Sma...</td>\n",
       "      <td>59900</td>\n",
       "      <td>19%(?11,410)</td>\n",
       "      <td>48490</td>\n",
       "      <td>11410</td>\n",
       "    </tr>\n",
       "    <tr>\n",
       "      <th>7</th>\n",
       "      <td>7</td>\n",
       "      <td>SAMSUNG 108 cm (43 inch) Full HD LED Smart TV</td>\n",
       "      <td>53000</td>\n",
       "      <td>21% off</td>\n",
       "      <td>41800</td>\n",
       "      <td>11200</td>\n",
       "      <td>Samsung 108 cm (43 inch) Ultra HD (4K) LED Sma...</td>\n",
       "      <td>62900</td>\n",
       "      <td>22%(?13,910)</td>\n",
       "      <td>48990</td>\n",
       "      <td>13910</td>\n",
       "    </tr>\n",
       "    <tr>\n",
       "      <th>8</th>\n",
       "      <td>8</td>\n",
       "      <td>SAMSUNG 108 cm (43 inch) Ultra HD (4K) LED Sma...</td>\n",
       "      <td>56900</td>\n",
       "      <td>20% off</td>\n",
       "      <td>45400</td>\n",
       "      <td>11500</td>\n",
       "      <td>Samsung 125 cm (50 inch) Ultra HD (4K) LED Sma...</td>\n",
       "      <td>70900</td>\n",
       "      <td>29%(?20,910)</td>\n",
       "      <td>49990</td>\n",
       "      <td>20910</td>\n",
       "    </tr>\n",
       "    <tr>\n",
       "      <th>9</th>\n",
       "      <td>9</td>\n",
       "      <td>SAMSUNG 108 cm (43 inch) Full HD LED Smart TV</td>\n",
       "      <td>39900</td>\n",
       "      <td>9% off</td>\n",
       "      <td>36249</td>\n",
       "      <td>3651</td>\n",
       "      <td>Samsung 80 cm (32 inch) HD Ready LED Smart TV,...</td>\n",
       "      <td>25900</td>\n",
       "      <td>13%(?3,410)</td>\n",
       "      <td>22490</td>\n",
       "      <td>3410</td>\n",
       "    </tr>\n",
       "    <tr>\n",
       "      <th>10</th>\n",
       "      <td>10</td>\n",
       "      <td>SAMSUNG 7 108 cm (43 inch) Ultra HD (4K) LED S...</td>\n",
       "      <td>49900</td>\n",
       "      <td>16% off</td>\n",
       "      <td>41529</td>\n",
       "      <td>8371</td>\n",
       "      <td>Samsung 108 cm (43 inch) Full HD LED Smart TV,...</td>\n",
       "      <td>44400</td>\n",
       "      <td>12%(?5,410)</td>\n",
       "      <td>38990</td>\n",
       "      <td>5410</td>\n",
       "    </tr>\n",
       "  </tbody>\n",
       "</table>\n",
       "</div>"
      ],
      "text/plain": [
       "    Unnamed: 0                                        BRAND_NAME1  OLD_PRICE1  \\\n",
       "0            0      SAMSUNG 108 cm (43 inch) Full HD LED Smart TV       38900   \n",
       "1            1  SAMSUNG Crystal 4K 108 cm (43 inch) Ultra HD (...       52900   \n",
       "2            2  SAMSUNG Crystal 4K Pro 108 cm (43 inch) Ultra ...       54900   \n",
       "3            3      SAMSUNG 80 cm (32 inch) HD Ready LED Smart TV       22900   \n",
       "4            4    SAMSUNG 4 80 cm (32 inch) HD Ready LED Smart TV       26490   \n",
       "5            5  SAMSUNG 4 80 cm (32 inch) HD Ready LED Smart T...       26490   \n",
       "6            6  SAMSUNG 108 cm (43 inch) Ultra HD (4K) LED Sma...       60900   \n",
       "7            7      SAMSUNG 108 cm (43 inch) Full HD LED Smart TV       53000   \n",
       "8            8  SAMSUNG 108 cm (43 inch) Ultra HD (4K) LED Sma...       56900   \n",
       "9            9      SAMSUNG 108 cm (43 inch) Full HD LED Smart TV       39900   \n",
       "10          10  SAMSUNG 7 108 cm (43 inch) Ultra HD (4K) LED S...       49900   \n",
       "\n",
       "   DISCOUNT1  NEW_PRICE1  DIS_PRICE  \\\n",
       "0    17% off       31990       6910   \n",
       "1    28% off       37990      14910   \n",
       "2    27% off       39990      14910   \n",
       "3     9% off       20790       2110   \n",
       "4    16% off       22140       4350   \n",
       "5    20% off       21150       5340   \n",
       "6    19% off       48990      11910   \n",
       "7    21% off       41800      11200   \n",
       "8    20% off       45400      11500   \n",
       "9     9% off       36249       3651   \n",
       "10   16% off       41529       8371   \n",
       "\n",
       "                                          BRAND_NAME2  OLD_PRICE2  \\\n",
       "0   Samsung 80 cm (32 inch) HD Ready LED Smart TV,...       25900   \n",
       "1   Samsung 80 cm (32 inch) HD Smart LED TV, Serie...       24900   \n",
       "2   Samsung 108 cm (43 inch) Ultra HD (4K) LED Sma...       54900   \n",
       "3   Samsung 80 cm (32 inch) HD Ready LED Smart TV,...       26900   \n",
       "4   Samsung 80 cm (32 inch) HD Ready LED Smart TV,...       28990   \n",
       "5   Samsung 108 cm (43 inch) Full HD LED Smart TV,...       42400   \n",
       "6   Samsung 108 cm (43 inch) Ultra HD (4K) LED Sma...       59900   \n",
       "7   Samsung 108 cm (43 inch) Ultra HD (4K) LED Sma...       62900   \n",
       "8   Samsung 125 cm (50 inch) Ultra HD (4K) LED Sma...       70900   \n",
       "9   Samsung 80 cm (32 inch) HD Ready LED Smart TV,...       25900   \n",
       "10  Samsung 108 cm (43 inch) Full HD LED Smart TV,...       44400   \n",
       "\n",
       "       DISCOUNT2  NEW_PRICE2  D_PRICE  \n",
       "0    19%(?4,910)       20990     4910  \n",
       "1    16%(?4,010)       20890     4010  \n",
       "2    14%(?7,910)       46990     7910  \n",
       "3    11%(?2,910)       23990     2910  \n",
       "4    10%(?2,800)       26190     2800  \n",
       "5    12%(?4,910)       37490     4910  \n",
       "6   19%(?11,410)       48490    11410  \n",
       "7   22%(?13,910)       48990    13910  \n",
       "8   29%(?20,910)       49990    20910  \n",
       "9    13%(?3,410)       22490     3410  \n",
       "10   12%(?5,410)       38990     5410  "
      ]
     },
     "execution_count": 2,
     "metadata": {},
     "output_type": "execute_result"
    }
   ],
   "source": [
    "tele=pd.read_csv('PROJtele.csv')\n",
    "tele"
   ]
  },
  {
   "cell_type": "code",
   "execution_count": 3,
   "id": "5d3074ba",
   "metadata": {},
   "outputs": [
    {
     "data": {
      "text/plain": [
       "8651.09090909091"
      ]
     },
     "execution_count": 3,
     "metadata": {},
     "output_type": "execute_result"
    }
   ],
   "source": [
    "#taking mean value To visualize flipkart discount price and reliance digital discount price\n",
    "flipkart_discount=tele['DIS_PRICE'].mean()\n",
    "flipkart_discount"
   ]
  },
  {
   "cell_type": "code",
   "execution_count": 4,
   "id": "5f2fe73e",
   "metadata": {},
   "outputs": [
    {
     "data": {
      "text/plain": [
       "7500.0"
      ]
     },
     "execution_count": 4,
     "metadata": {},
     "output_type": "execute_result"
    }
   ],
   "source": [
    "reliance_digital_discount=tele['D_PRICE'].mean()\n",
    "reliance_digital_discount"
   ]
  },
  {
   "cell_type": "code",
   "execution_count": 5,
   "id": "77a1a298",
   "metadata": {},
   "outputs": [],
   "source": [
    "xaxis=['flipkart','reliance_digital']\n",
    "yaxis=[flipkart_discount,reliance_digital_discount]"
   ]
  },
  {
   "cell_type": "code",
   "execution_count": 6,
   "id": "7ed45c51",
   "metadata": {},
   "outputs": [
    {
     "data": {
      "text/plain": [
       "<AxesSubplot:>"
      ]
     },
     "execution_count": 6,
     "metadata": {},
     "output_type": "execute_result"
    },
    {
     "data": {
      "image/png": "[encoded data removed]",
      "text/plain": [
       "<Figure size 288x144 with 1 Axes>"
      ]
     },
     "metadata": {
      "needs_background": "light"
     },
     "output_type": "display_data"
    }
   ],
   "source": [
    "import matplotlib.pyplot as plt\n",
    "import seaborn as sns\n",
    "%matplotlib inline\n",
    "\n",
    "# Discount price range of two ecommerce products\n",
    "plt.figure(figsize=(4,2))\n",
    "sns.histplot(x=xaxis,y=yaxis)"
   ]
  },
  {
   "cell_type": "code",
   "execution_count": null,
   "id": "7a1126e1",
   "metadata": {},
   "outputs": [],
   "source": [
    "flipkart is giving higher discount than reliance digital."
   ]
  },
  {
   "cell_type": "code",
   "execution_count": 7,
   "id": "85e32bf4",
   "metadata": {},
   "outputs": [
    {
     "data": {
      "text/plain": [
       "35274.36363636364"
      ]
     },
     "execution_count": 7,
     "metadata": {},
     "output_type": "execute_result"
    }
   ],
   "source": [
    "#taking mean value To visualize flipkart newprice and reliance digital newprice\n",
    "flipkart_newprice=tele['NEW_PRICE1'].mean()\n",
    "flipkart_newprice"
   ]
  },
  {
   "cell_type": "code",
   "execution_count": 8,
   "id": "0eda1e1f",
   "metadata": {},
   "outputs": [
    {
     "data": {
      "text/plain": [
       "35044.545454545456"
      ]
     },
     "execution_count": 8,
     "metadata": {},
     "output_type": "execute_result"
    }
   ],
   "source": [
    "reliance_digital_newprice=tele['NEW_PRICE2'].mean()\n",
    "reliance_digital_newprice"
   ]
  },
  {
   "cell_type": "code",
   "execution_count": 9,
   "id": "8607ada2",
   "metadata": {},
   "outputs": [],
   "source": [
    "axisx=['flipkart','reliance_digital']\n",
    "axisy=[flipkart_newprice,reliance_digital_newprice]"
   ]
  },
  {
   "cell_type": "code",
   "execution_count": 10,
   "id": "8040b584",
   "metadata": {},
   "outputs": [
    {
     "data": {
      "text/plain": [
       "<AxesSubplot:>"
      ]
     },
     "execution_count": 10,
     "metadata": {},
     "output_type": "execute_result"
    },
    {
     "data": {
      "image/png": "[encoded data removed]",
      "text/plain": [
       "<Figure size 288x144 with 1 Axes>"
      ]
     },
     "metadata": {
      "needs_background": "light"
     },
     "output_type": "display_data"
    }
   ],
   "source": [
    "#newprice range of two ecommerce products\n",
    "plt.figure(figsize=(4,2))\n",
    "sns.histplot(x=axisx,y=axisy)"
   ]
  },
  {
   "cell_type": "code",
   "execution_count": 11,
   "id": "bffd6c22",
   "metadata": {},
   "outputs": [
    {
     "data": {
      "text/plain": [
       "43925.454545454544"
      ]
     },
     "execution_count": 11,
     "metadata": {},
     "output_type": "execute_result"
    }
   ],
   "source": [
    "#taking mean value To visualize flipkart oldprice and reliance digital oldprice\n",
    "flipkart_oldprice=tele['OLD_PRICE1'].mean()\n",
    "flipkart_oldprice"
   ]
  },
  {
   "cell_type": "code",
   "execution_count": 12,
   "id": "a5767520",
   "metadata": {},
   "outputs": [
    {
     "data": {
      "text/plain": [
       "42544.545454545456"
      ]
     },
     "execution_count": 12,
     "metadata": {},
     "output_type": "execute_result"
    }
   ],
   "source": [
    "reliance_digital_oldprice=tele['OLD_PRICE2'].mean()\n",
    "reliance_digital_oldprice"
   ]
  },
  {
   "cell_type": "code",
   "execution_count": 13,
   "id": "33dcd66a",
   "metadata": {},
   "outputs": [],
   "source": [
    "axis_x=['flipkart','reliance_digital']\n",
    "axis_y=[flipkart_oldprice,reliance_digital_oldprice]"
   ]
  },
  {
   "cell_type": "code",
   "execution_count": 14,
   "id": "d64d702a",
   "metadata": {},
   "outputs": [
    {
     "data": {
      "text/plain": [
       "<AxesSubplot:>"
      ]
     },
     "execution_count": 14,
     "metadata": {},
     "output_type": "execute_result"
    },
    {
     "data": {
      "image/png": "[encoded data removed]",
      "text/plain": [
       "<Figure size 288x144 with 1 Axes>"
      ]
     },
     "metadata": {
      "needs_background": "light"
     },
     "output_type": "display_data"
    }
   ],
   "source": [
    "#oldprice range of two ecommerce products\n",
    "plt.figure(figsize=(4,2))\n",
    "sns.histplot(x=axis_x,y=axis_y)"
   ]
  },
  {
   "cell_type": "code",
   "execution_count": 15,
   "id": "aaacffa3",
   "metadata": {
    "scrolled": true
   },
   "outputs": [
    {
     "data": {
      "text/plain": [
       "<AxesSubplot:xlabel='BRAND_NAME2'>"
      ]
     },
     "execution_count": 15,
     "metadata": {},
     "output_type": "execute_result"
    },
    {
     "data": {
      "image/png": "[encoded data removed]",
      "text/plain": [
       "<Figure size 432x288 with 1 Axes>"
      ]
     },
     "metadata": {
      "needs_background": "light"
     },
     "output_type": "display_data"
    },
    {
     "data": {
      "image/png": "[encoded data removed]",
      "text/plain": [
       "<Figure size 432x288 with 1 Axes>"
      ]
     },
     "metadata": {
      "needs_background": "light"
     },
     "output_type": "display_data"
    }
   ],
   "source": [
    "# here BRAND_NAME1 is the flipkart product and BRAND_NAME2 is the reliance digital product\n",
    "# plotted for old price and newprice comparison\n",
    "tele.plot(x='BRAND_NAME1',y=['NEW_PRICE1','OLD_PRICE1'],kind='bar')\n",
    "tele.plot(x='BRAND_NAME2',y=['NEW_PRICE2','OLD_PRICE2'],kind='bar')"
   ]
  },
  {
   "cell_type": "code",
   "execution_count": null,
   "id": "ce28dc08",
   "metadata": {},
   "outputs": [],
   "source": []
  }
 ],
 "metadata": {
  "kernelspec": {
   "display_name": "Python 3",
   "language": "python",
   "name": "python3"
  },
  "language_info": {
   "codemirror_mode": {
    "name": "ipython",
    "version": 3
   },
   "file_extension": ".py",
   "mimetype": "text/x-python",
   "name": "python",
   "nbconvert_exporter": "python",
   "pygments_lexer": "ipython3",
   "version": "3.8.8"
  }
 },
 "nbformat": 4,
 "nbformat_minor": 5
}
